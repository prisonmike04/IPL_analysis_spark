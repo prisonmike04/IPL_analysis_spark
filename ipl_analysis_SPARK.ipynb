{
  "nbformat": 4,
  "nbformat_minor": 0,
  "metadata": {
    "colab": {
      "provenance": []
    },
    "kernelspec": {
      "name": "python3",
      "display_name": "Python 3"
    },
    "language_info": {
      "name": "python"
    }
  },
  "cells": [
    {
      "cell_type": "code",
      "execution_count": 52,
      "metadata": {
        "colab": {
          "base_uri": "https://localhost:8080/"
        },
        "id": "sEKemy2VP1Cw",
        "outputId": "544b05fd-0056-4d38-da87-55fd147466f5"
      },
      "outputs": [
        {
          "output_type": "stream",
          "name": "stdout",
          "text": [
            "openjdk version \"11.0.23\" 2024-04-16\n",
            "OpenJDK Runtime Environment (build 11.0.23+9-post-Ubuntu-1ubuntu122.04.1)\n",
            "OpenJDK 64-Bit Server VM (build 11.0.23+9-post-Ubuntu-1ubuntu122.04.1, mixed mode, sharing)\n",
            "/usr/lib/jvm/java-8-openjdk-amd64\n",
            "/content/spark-3.4.1-bin-hadoop3\n",
            "+---+\n",
            "| id|\n",
            "+---+\n",
            "|  0|\n",
            "|  1|\n",
            "|  2|\n",
            "|  3|\n",
            "|  4|\n",
            "+---+\n",
            "\n"
          ]
        }
      ],
      "source": [
        "\n",
        "!apt-get install openjdk-8-jdk-headless -qq > /dev/null\n",
        "\n",
        "!wget -q https://archive.apache.org/dist/spark/spark-3.4.1/spark-3.4.1-bin-hadoop3.tgz\n",
        "!tar xf spark-3.4.1-bin-hadoop3.tgz\n",
        "\n",
        "!pip install -q pyspark\n",
        "\n",
        "import os\n",
        "os.environ[\"JAVA_HOME\"] = \"/usr/lib/jvm/java-8-openjdk-amd64\"\n",
        "os.environ[\"SPARK_HOME\"] = \"/content/spark-3.4.1-bin-hadoop3\"\n",
        "os.environ[\"PATH\"] = os.environ[\"SPARK_HOME\"] + \"/bin:\" + os.environ[\"PATH\"]\n",
        "\n",
        "!java -version\n",
        "!echo $JAVA_HOME\n",
        "!echo $SPARK_HOME\n",
        "\n",
        "from pyspark.sql import SparkSession\n",
        "from pyspark import SparkConf\n",
        "\n",
        "conf = SparkConf() \\\n",
        "    .setAppName(\"ipl_analysis\") \\\n",
        "    .setMaster(\"local[*]\") \\\n",
        "    .set(\"spark.driver.memory\", \"2g\") \\\n",
        "    .set(\"spark.executor.memory\", \"2g\") \\\n",
        "    .set(\"spark.sql.shuffle.partitions\", \"200\") \\\n",
        "    .set(\"spark.driver.maxResultSize\", \"1g\") \\\n",
        "    .set(\"spark.jars.packages\", \"org.apache.spark:spark-sql_2.12:3.4.1\")\n",
        "\n",
        "spark = SparkSession.builder.config(conf=conf).getOrCreate()\n",
        "\n",
        "spark.range(5).show()\n"
      ]
    },
    {
      "cell_type": "code",
      "source": [
        "!pip install pyspark\n",
        "!pip install hadoop-aws"
      ],
      "metadata": {
        "colab": {
          "base_uri": "https://localhost:8080/"
        },
        "id": "0gkXgIfYNZWF",
        "outputId": "8f018841-4b54-4ff2-d6b4-ee5b8fe93174"
      },
      "execution_count": 53,
      "outputs": [
        {
          "output_type": "stream",
          "name": "stdout",
          "text": [
            "Requirement already satisfied: pyspark in /usr/local/lib/python3.10/dist-packages (3.5.1)\n",
            "Requirement already satisfied: py4j==0.10.9.7 in /usr/local/lib/python3.10/dist-packages (from pyspark) (0.10.9.7)\n",
            "\u001b[31mERROR: Could not find a version that satisfies the requirement hadoop-aws (from versions: none)\u001b[0m\u001b[31m\n",
            "\u001b[0m\u001b[31mERROR: No matching distribution found for hadoop-aws\u001b[0m\u001b[31m\n",
            "\u001b[0m"
          ]
        }
      ]
    },
    {
      "cell_type": "code",
      "source": [
        "!tar xf spark-3.3.1-bin-hadoop3.tgz\n",
        "!mv spark-3.3.1-bin-hadoop3 /usr/local/spark\n",
        "\n",
        "# Download the Hadoop AWS JAR\n",
        "!wget -q https://repo1.maven.org/maven2/org/apache/hadoop/hadoop-aws/3.2.0/hadoop-aws-3.2.0.jar -P /usr/local/spark/jars/\n",
        "!wget -q https://repo1.maven.org/maven2/com/amazonaws/aws-java-sdk-bundle/1.12.318/aws-java-sdk-bundle-1.12.318.jar -P /usr/local/spark/jars/\n"
      ],
      "metadata": {
        "colab": {
          "base_uri": "https://localhost:8080/"
        },
        "id": "KnT66TB7NoWT",
        "outputId": "d38c496c-6125-47b7-a2a1-948dbe777bf0"
      },
      "execution_count": 54,
      "outputs": [
        {
          "output_type": "stream",
          "name": "stdout",
          "text": [
            "tar: spark-3.3.1-bin-hadoop3.tgz: Cannot open: No such file or directory\n",
            "tar: Error is not recoverable: exiting now\n",
            "mv: cannot stat 'spark-3.3.1-bin-hadoop3': No such file or directory\n"
          ]
        }
      ]
    },
    {
      "cell_type": "code",
      "source": [
        "ball_by_ball = spark.read.csv('/content/Ball_By_Ball.csv', header=True, inferSchema=True)"
      ],
      "metadata": {
        "id": "W26tasgBMXmp"
      },
      "execution_count": 55,
      "outputs": []
    },
    {
      "cell_type": "code",
      "source": [
        "ball_by_ball.show()"
      ],
      "metadata": {
        "colab": {
          "base_uri": "https://localhost:8080/"
        },
        "id": "czvNpIYNMiwY",
        "outputId": "fc4df696-3f77-4a05-ff88-ce15eea9d14c"
      },
      "execution_count": 56,
      "outputs": [
        {
          "output_type": "stream",
          "name": "stdout",
          "text": [
            "+--------+-------+-------+----------+------------+------------+------------------------+----------+-----------+----------+-----+-------+----+-------+-------+-------------+--------------+------+------+-------+---+------------+-------+-----------------+----------+----------------+-------------+----------+------+-------+-----------+------+----------+--------+----------------+---------+-------------------+-------------+----------------+----------+---------------+---------+------------------+--------------+--------------+------------+-------------+-----------+\n",
            "|MatcH_id|Over_id|Ball_id|Innings_No|Team_Batting|Team_Bowling|Striker_Batting_Position|Extra_Type|Runs_Scored|Extra_runs|Wides|Legbyes|Byes|Noballs|Penalty|Bowler_Extras|      Out_type|Caught|Bowled|Run_out|LBW|Retired_hurt|Stumped|caught_and_bowled|hit_wicket|ObstructingFeild|Bowler_Wicket|Match_Date|Season|Striker|Non_Striker|Bowler|Player_Out|Fielders|Striker_match_SK|StrikerSK|NonStriker_match_SK|NONStriker_SK|Fielder_match_SK|Fielder_SK|Bowler_match_SK|BOWLER_SK|PlayerOut_match_SK|BattingTeam_SK|BowlingTeam_SK|Keeper_Catch|Player_out_sk|MatchDateSK|\n",
            "+--------+-------+-------+----------+------------+------------+------------------------+----------+-----------+----------+-----+-------+----+-------+-------+-------------+--------------+------+------+-------+---+------------+-------+-----------------+----------+----------------+-------------+----------+------+-------+-----------+------+----------+--------+----------------+---------+-------------------+-------------+----------------+----------+---------------+---------+------------------+--------------+--------------+------------+-------------+-----------+\n",
            "|  598028|     15|      6|         1|           5|           2|                       6| No Extras|          4|         0|    0|      0|   0|      0|      0|            0|Not Applicable|     0|     0|      0|  0|           0|      0|                0|         0|               0|            0| 4/20/2013|  2013|    277|        104|    83|      null|    null|           20336|      276|              20333|          103|              -1|        -1|          20343|       82|                -1|             4|             1|           0|            0|   20130420|\n",
            "|  598028|     14|      1|         1|           5|           2|                       5| No Extras|          1|         0|    0|      0|   0|      0|      0|            0|Not Applicable|     0|     0|      0|  0|           0|      0|                0|         0|               0|            0| 4/20/2013|  2013|    104|          6|   346|      null|    null|           20333|      103|              20328|            5|              -1|        -1|          20348|      345|                -1|             4|             1|           0|            0|   20130420|\n",
            "|  598028|     14|      2|         1|           5|           2|                       3| No Extras|          1|         0|    0|      0|   0|      0|      0|            0|Not Applicable|     0|     0|      0|  0|           0|      0|                0|         0|               0|            0| 4/20/2013|  2013|      6|        104|   346|      null|    null|           20328|        5|              20333|          103|              -1|        -1|          20348|      345|                -1|             4|             1|           0|            0|   20130420|\n",
            "|  598028|     14|      3|         1|           5|           2|                       5| No Extras|          1|         0|    0|      0|   0|      0|      0|            0|Not Applicable|     0|     0|      0|  0|           0|      0|                0|         0|               0|            0| 4/20/2013|  2013|    104|          6|   346|      null|    null|           20333|      103|              20328|            5|              -1|        -1|          20348|      345|                -1|             4|             1|           0|            0|   20130420|\n",
            "|  598028|     14|      4|         1|           5|           2|                       3| No Extras|          0|         0|    0|      0|   0|      0|      0|            0|Not Applicable|     0|     0|      0|  0|           0|      0|                0|         0|               0|            0| 4/20/2013|  2013|      6|        104|   346|      null|    null|           20328|        5|              20333|          103|              -1|        -1|          20348|      345|                -1|             4|             1|           0|            0|   20130420|\n",
            "|  598028|     14|      5|         1|           5|           2|                       3| No Extras|          4|         0|    0|      0|   0|      0|      0|            0|Not Applicable|     0|     0|      0|  0|           0|      0|                0|         0|               0|            0| 4/20/2013|  2013|      6|        104|   346|      null|    null|           20328|        5|              20333|          103|              -1|        -1|          20348|      345|                -1|             4|             1|           0|            0|   20130420|\n",
            "|  598028|     14|      6|         1|           5|           2|                       3| No Extras|          2|         0|    0|      0|   0|      0|      0|            0|Not Applicable|     0|     0|      0|  0|           0|      0|                0|         0|               0|            0| 4/20/2013|  2013|      6|        104|   346|      null|    null|           20328|        5|              20333|          103|              -1|        -1|          20348|      345|                -1|             4|             1|           0|            0|   20130420|\n",
            "|  598028|     13|      1|         1|           5|           2|                       5| No Extras|          1|         0|    0|      0|   0|      0|      0|            0|Not Applicable|     0|     0|      0|  0|           0|      0|                0|         0|               0|            0| 4/20/2013|  2013|    104|          6|    83|      null|    null|           20333|      103|              20328|            5|              -1|        -1|          20343|       82|                -1|             4|             1|           0|            0|   20130420|\n",
            "|  598028|     13|      2|         1|           5|           2|                       3| No Extras|          4|         0|    0|      0|   0|      0|      0|            0|Not Applicable|     0|     0|      0|  0|           0|      0|                0|         0|               0|            0| 4/20/2013|  2013|      6|        104|    83|      null|    null|           20328|        5|              20333|          103|              -1|        -1|          20343|       82|                -1|             4|             1|           0|            0|   20130420|\n",
            "|  598028|     13|      3|         1|           5|           2|                       3| No Extras|          1|         0|    0|      0|   0|      0|      0|            0|Not Applicable|     0|     0|      0|  0|           0|      0|                0|         0|               0|            0| 4/20/2013|  2013|      6|        104|    83|      null|    null|           20328|        5|              20333|          103|              -1|        -1|          20343|       82|                -1|             4|             1|           0|            0|   20130420|\n",
            "|  598028|     13|      4|         1|           5|           2|                       5| No Extras|          0|         0|    0|      0|   0|      0|      0|            0|Not Applicable|     0|     0|      0|  0|           0|      0|                0|         0|               0|            0| 4/20/2013|  2013|    104|          6|    83|      null|    null|           20333|      103|              20328|            5|              -1|        -1|          20343|       82|                -1|             4|             1|           0|            0|   20130420|\n",
            "|  598028|     13|      5|         1|           5|           2|                       5| No Extras|          0|         0|    0|      0|   0|      0|      0|            0|Not Applicable|     0|     0|      0|  0|           0|      0|                0|         0|               0|            0| 4/20/2013|  2013|    104|          6|    83|      null|    null|           20333|      103|              20328|            5|              -1|        -1|          20343|       82|                -1|             4|             1|           0|            0|   20130420|\n",
            "|  598028|     13|      6|         1|           5|           2|                       5| No Extras|          1|         0|    0|      0|   0|      0|      0|            0|Not Applicable|     0|     0|      0|  0|           0|      0|                0|         0|               0|            0| 4/20/2013|  2013|    104|          6|    83|      null|    null|           20333|      103|              20328|            5|              -1|        -1|          20343|       82|                -1|             4|             1|           0|            0|   20130420|\n",
            "|  598028|     12|      1|         1|           5|           2|                       3| No Extras|          1|         0|    0|      0|   0|      0|      0|            0|Not Applicable|     0|     0|      0|  0|           0|      0|                0|         0|               0|            0| 4/20/2013|  2013|      6|        104|   346|      null|    null|           20328|        5|              20333|          103|              -1|        -1|          20348|      345|                -1|             4|             1|           0|            0|   20130420|\n",
            "|  598028|     12|      2|         1|           5|           2|                       5| No Extras|          0|         0|    0|      0|   0|      0|      0|            0|Not Applicable|     0|     0|      0|  0|           0|      0|                0|         0|               0|            0| 4/20/2013|  2013|    104|          6|   346|      null|    null|           20333|      103|              20328|            5|              -1|        -1|          20348|      345|                -1|             4|             1|           0|            0|   20130420|\n",
            "|  598028|     12|      3|         1|           5|           2|                       5| No Extras|          1|         0|    0|      0|   0|      0|      0|            0|Not Applicable|     0|     0|      0|  0|           0|      0|                0|         0|               0|            0| 4/20/2013|  2013|    104|          6|   346|      null|    null|           20333|      103|              20328|            5|              -1|        -1|          20348|      345|                -1|             4|             1|           0|            0|   20130420|\n",
            "|  598028|     12|      4|         1|           5|           2|                       3| No Extras|          1|         0|    0|      0|   0|      0|      0|            0|Not Applicable|     0|     0|      0|  0|           0|      0|                0|         0|               0|            0| 4/20/2013|  2013|      6|        104|   346|      null|    null|           20328|        5|              20333|          103|              -1|        -1|          20348|      345|                -1|             4|             1|           0|            0|   20130420|\n",
            "|  598028|     12|      5|         1|           5|           2|                       5| No Extras|          0|         0|    0|      0|   0|      0|      0|            0|Not Applicable|     0|     0|      0|  0|           0|      0|                0|         0|               0|            0| 4/20/2013|  2013|    104|          6|   346|      null|    null|           20333|      103|              20328|            5|              -1|        -1|          20348|      345|                -1|             4|             1|           0|            0|   20130420|\n",
            "|  598028|     12|      6|         1|           5|           2|                       5| No Extras|          1|         0|    0|      0|   0|      0|      0|            0|Not Applicable|     0|     0|      0|  0|           0|      0|                0|         0|               0|            0| 4/20/2013|  2013|    104|          6|   346|      null|    null|           20333|      103|              20328|            5|              -1|        -1|          20348|      345|                -1|             4|             1|           0|            0|   20130420|\n",
            "|  598028|     11|      1|         1|           5|           2|                       5| No Extras|          0|         0|    0|      0|   0|      0|      0|            0|Not Applicable|     0|     0|      0|  0|           0|      0|                0|         0|               0|            0| 4/20/2013|  2013|    104|          6|    83|      null|    null|           20333|      103|              20328|            5|              -1|        -1|          20343|       82|                -1|             4|             1|           0|            0|   20130420|\n",
            "+--------+-------+-------+----------+------------+------------+------------------------+----------+-----------+----------+-----+-------+----+-------+-------+-------------+--------------+------+------+-------+---+------------+-------+-----------------+----------+----------------+-------------+----------+------+-------+-----------+------+----------+--------+----------------+---------+-------------------+-------------+----------------+----------+---------------+---------+------------------+--------------+--------------+------------+-------------+-----------+\n",
            "only showing top 20 rows\n",
            "\n"
          ]
        }
      ]
    },
    {
      "cell_type": "code",
      "source": [
        "\n",
        "\n",
        "ball_by_ball.printSchema()\n"
      ],
      "metadata": {
        "colab": {
          "base_uri": "https://localhost:8080/"
        },
        "id": "yGZ0h4fmN6GR",
        "outputId": "e59fda08-b35c-4f94-b50b-df8a09b949ad"
      },
      "execution_count": 57,
      "outputs": [
        {
          "output_type": "stream",
          "name": "stdout",
          "text": [
            "root\n",
            " |-- MatcH_id: integer (nullable = true)\n",
            " |-- Over_id: integer (nullable = true)\n",
            " |-- Ball_id: integer (nullable = true)\n",
            " |-- Innings_No: integer (nullable = true)\n",
            " |-- Team_Batting: string (nullable = true)\n",
            " |-- Team_Bowling: string (nullable = true)\n",
            " |-- Striker_Batting_Position: integer (nullable = true)\n",
            " |-- Extra_Type: string (nullable = true)\n",
            " |-- Runs_Scored: integer (nullable = true)\n",
            " |-- Extra_runs: integer (nullable = true)\n",
            " |-- Wides: integer (nullable = true)\n",
            " |-- Legbyes: integer (nullable = true)\n",
            " |-- Byes: integer (nullable = true)\n",
            " |-- Noballs: integer (nullable = true)\n",
            " |-- Penalty: integer (nullable = true)\n",
            " |-- Bowler_Extras: integer (nullable = true)\n",
            " |-- Out_type: string (nullable = true)\n",
            " |-- Caught: integer (nullable = true)\n",
            " |-- Bowled: integer (nullable = true)\n",
            " |-- Run_out: integer (nullable = true)\n",
            " |-- LBW: integer (nullable = true)\n",
            " |-- Retired_hurt: integer (nullable = true)\n",
            " |-- Stumped: integer (nullable = true)\n",
            " |-- caught_and_bowled: integer (nullable = true)\n",
            " |-- hit_wicket: integer (nullable = true)\n",
            " |-- ObstructingFeild: integer (nullable = true)\n",
            " |-- Bowler_Wicket: integer (nullable = true)\n",
            " |-- Match_Date: string (nullable = true)\n",
            " |-- Season: integer (nullable = true)\n",
            " |-- Striker: integer (nullable = true)\n",
            " |-- Non_Striker: integer (nullable = true)\n",
            " |-- Bowler: integer (nullable = true)\n",
            " |-- Player_Out: integer (nullable = true)\n",
            " |-- Fielders: integer (nullable = true)\n",
            " |-- Striker_match_SK: integer (nullable = true)\n",
            " |-- StrikerSK: integer (nullable = true)\n",
            " |-- NonStriker_match_SK: integer (nullable = true)\n",
            " |-- NONStriker_SK: integer (nullable = true)\n",
            " |-- Fielder_match_SK: integer (nullable = true)\n",
            " |-- Fielder_SK: integer (nullable = true)\n",
            " |-- Bowler_match_SK: integer (nullable = true)\n",
            " |-- BOWLER_SK: integer (nullable = true)\n",
            " |-- PlayerOut_match_SK: integer (nullable = true)\n",
            " |-- BattingTeam_SK: integer (nullable = true)\n",
            " |-- BowlingTeam_SK: integer (nullable = true)\n",
            " |-- Keeper_Catch: integer (nullable = true)\n",
            " |-- Player_out_sk: integer (nullable = true)\n",
            " |-- MatchDateSK: integer (nullable = true)\n",
            "\n"
          ]
        }
      ]
    },
    {
      "cell_type": "code",
      "source": [
        "from pyspark.sql.types import IntegerType, StringType, StructField, StructType, DateType, DecimalType, FloatType\n",
        "\n"
      ],
      "metadata": {
        "id": "4eqk8W0cOEiJ"
      },
      "execution_count": 58,
      "outputs": []
    },
    {
      "cell_type": "code",
      "source": [
        "schema = StructType([\n",
        "    StructField(\"MatcH_id\", IntegerType(), True),\n",
        "    StructField(\"Over_id\", IntegerType(), True),\n",
        "    StructField(\"Ball_id\", IntegerType(), True),\n",
        "    StructField(\"Innings_No\", IntegerType(), True),\n",
        "    StructField(\"Team_Batting\", StringType(), True),\n",
        "    StructField(\"Team_Bowling\", StringType(), True),\n",
        "    StructField(\"Striker_Batting_Position\", IntegerType(), True),\n",
        "    StructField(\"Extra_Type\", StringType(), True),\n",
        "    StructField(\"Runs_Scored\", IntegerType(), True),\n",
        "    StructField(\"Extra_runs\", IntegerType(), True),\n",
        "    StructField(\"Wides\", IntegerType(), True),\n",
        "    StructField(\"Legbyes\", IntegerType(), True),\n",
        "    StructField(\"Byes\", IntegerType(), True),\n",
        "    StructField(\"Noballs\", IntegerType(), True),\n",
        "    StructField(\"Penalty\", IntegerType(), True),\n",
        "    StructField(\"Bowler_Extras\", IntegerType(), True),\n",
        "    StructField(\"Out_type\", StringType(), True),\n",
        "    StructField(\"Caught\", IntegerType(), True),\n",
        "    StructField(\"Bowled\", IntegerType(), True),\n",
        "    StructField(\"Run_out\", IntegerType(), True),\n",
        "    StructField(\"LBW\", IntegerType(), True),\n",
        "    StructField(\"Retired_hurt\", IntegerType(), True),\n",
        "    StructField(\"Stumped\", IntegerType(), True),\n",
        "    StructField(\"caught_and_bowled\", IntegerType(), True),\n",
        "    StructField(\"hit_wicket\", IntegerType(), True),\n",
        "    StructField(\"ObstructingFeild\", IntegerType(), True),\n",
        "    StructField(\"Bowler_Wicket\", IntegerType(), True),\n",
        "    StructField(\"Match_Date\", StringType(), True),\n",
        "    StructField(\"Season\", IntegerType(), True),\n",
        "    StructField(\"Striker\", IntegerType(), True),\n",
        "    StructField(\"Non_Striker\", IntegerType(), True),\n",
        "    StructField(\"Bowler\", IntegerType(), True),\n",
        "    StructField(\"Player_Out\", IntegerType(), True),\n",
        "    StructField(\"Fielders\", IntegerType(), True),\n",
        "    StructField(\"Striker_match_SK\", IntegerType(), True),\n",
        "    StructField(\"StrikerSK\", IntegerType(), True),\n",
        "    StructField(\"NonStriker_match_SK\", IntegerType(), True),\n",
        "    StructField(\"NONStriker_SK\", IntegerType(), True),\n",
        "    StructField(\"Fielder_match_SK\", IntegerType(), True),\n",
        "    StructField(\"Fielder_SK\", IntegerType(), True),\n",
        "    StructField(\"Bowler_match_SK\", IntegerType(), True),\n",
        "    StructField(\"BOWLER_SK\", IntegerType(), True),\n",
        "    StructField(\"PlayerOut_match_SK\", IntegerType(), True),\n",
        "    StructField(\"BattingTeam_SK\", IntegerType(), True),\n",
        "    StructField(\"BowlingTeam_SK\", IntegerType(), True),\n",
        "    StructField(\"Keeper_Catch\", IntegerType(), True),\n",
        "    StructField(\"Player_out_sk\", IntegerType(), True),\n",
        "    StructField(\"MatchDateSK\", IntegerType(), True)\n",
        "])\n",
        "\n"
      ],
      "metadata": {
        "id": "8mO48xKJQWO6"
      },
      "execution_count": 59,
      "outputs": []
    },
    {
      "cell_type": "code",
      "source": [
        "ball_by_ball.printSchema()"
      ],
      "metadata": {
        "colab": {
          "base_uri": "https://localhost:8080/"
        },
        "id": "gEts2Ns9RcvV",
        "outputId": "9c0a5a1e-2510-4b0a-e2de-a8b63c5798f8"
      },
      "execution_count": 60,
      "outputs": [
        {
          "output_type": "stream",
          "name": "stdout",
          "text": [
            "root\n",
            " |-- MatcH_id: integer (nullable = true)\n",
            " |-- Over_id: integer (nullable = true)\n",
            " |-- Ball_id: integer (nullable = true)\n",
            " |-- Innings_No: integer (nullable = true)\n",
            " |-- Team_Batting: string (nullable = true)\n",
            " |-- Team_Bowling: string (nullable = true)\n",
            " |-- Striker_Batting_Position: integer (nullable = true)\n",
            " |-- Extra_Type: string (nullable = true)\n",
            " |-- Runs_Scored: integer (nullable = true)\n",
            " |-- Extra_runs: integer (nullable = true)\n",
            " |-- Wides: integer (nullable = true)\n",
            " |-- Legbyes: integer (nullable = true)\n",
            " |-- Byes: integer (nullable = true)\n",
            " |-- Noballs: integer (nullable = true)\n",
            " |-- Penalty: integer (nullable = true)\n",
            " |-- Bowler_Extras: integer (nullable = true)\n",
            " |-- Out_type: string (nullable = true)\n",
            " |-- Caught: integer (nullable = true)\n",
            " |-- Bowled: integer (nullable = true)\n",
            " |-- Run_out: integer (nullable = true)\n",
            " |-- LBW: integer (nullable = true)\n",
            " |-- Retired_hurt: integer (nullable = true)\n",
            " |-- Stumped: integer (nullable = true)\n",
            " |-- caught_and_bowled: integer (nullable = true)\n",
            " |-- hit_wicket: integer (nullable = true)\n",
            " |-- ObstructingFeild: integer (nullable = true)\n",
            " |-- Bowler_Wicket: integer (nullable = true)\n",
            " |-- Match_Date: string (nullable = true)\n",
            " |-- Season: integer (nullable = true)\n",
            " |-- Striker: integer (nullable = true)\n",
            " |-- Non_Striker: integer (nullable = true)\n",
            " |-- Bowler: integer (nullable = true)\n",
            " |-- Player_Out: integer (nullable = true)\n",
            " |-- Fielders: integer (nullable = true)\n",
            " |-- Striker_match_SK: integer (nullable = true)\n",
            " |-- StrikerSK: integer (nullable = true)\n",
            " |-- NonStriker_match_SK: integer (nullable = true)\n",
            " |-- NONStriker_SK: integer (nullable = true)\n",
            " |-- Fielder_match_SK: integer (nullable = true)\n",
            " |-- Fielder_SK: integer (nullable = true)\n",
            " |-- Bowler_match_SK: integer (nullable = true)\n",
            " |-- BOWLER_SK: integer (nullable = true)\n",
            " |-- PlayerOut_match_SK: integer (nullable = true)\n",
            " |-- BattingTeam_SK: integer (nullable = true)\n",
            " |-- BowlingTeam_SK: integer (nullable = true)\n",
            " |-- Keeper_Catch: integer (nullable = true)\n",
            " |-- Player_out_sk: integer (nullable = true)\n",
            " |-- MatchDateSK: integer (nullable = true)\n",
            "\n"
          ]
        }
      ]
    },
    {
      "cell_type": "code",
      "source": [
        "match = spark.read.csv('/content/Match.csv', header=True, inferSchema=True)"
      ],
      "metadata": {
        "id": "1ln5pmpRRqpg"
      },
      "execution_count": 61,
      "outputs": []
    },
    {
      "cell_type": "code",
      "source": [
        "match.show()"
      ],
      "metadata": {
        "colab": {
          "base_uri": "https://localhost:8080/"
        },
        "id": "uoaGJu55TAla",
        "outputId": "270ac778-4d27-4596-97fa-f77ce6094b34"
      },
      "execution_count": 62,
      "outputs": [
        {
          "output_type": "stream",
          "name": "stdout",
          "text": [
            "+--------+--------+--------------------+--------------------+----------+-----------+--------------------+----------+------------+--------------------+--------------------+---------+--------+------------+-------------+----------+----------+\n",
            "|Match_SK|match_id|               Team1|               Team2|match_date|Season_Year|          Venue_Name| City_Name|Country_Name|         Toss_Winner|        match_winner|Toss_Name|Win_Type|Outcome_Type|    ManOfMach|Win_Margin|Country_id|\n",
            "+--------+--------+--------------------+--------------------+----------+-----------+--------------------+----------+------------+--------------------+--------------------+---------+--------+------------+-------------+----------+----------+\n",
            "|       0|  335987|Royal Challengers...|Kolkata Knight Ri...| 4/18/2008|       2008|M Chinnaswamy Sta...| Bangalore|       India|Royal Challengers...|Kolkata Knight Ri...|    field|    runs|      Result|  BB McCullum|       140|         1|\n",
            "|       1|  335988|     Kings XI Punjab| Chennai Super Kings| 4/19/2008|       2008|Punjab Cricket As...|Chandigarh|       India| Chennai Super Kings| Chennai Super Kings|      bat|    runs|      Result|   MEK Hussey|        33|         1|\n",
            "|       2|  335989|    Delhi Daredevils|    Rajasthan Royals| 4/19/2008|       2008|    Feroz Shah Kotla|     Delhi|       India|    Rajasthan Royals|    Delhi Daredevils|      bat| wickets|      Result|  MF Maharoof|         9|         1|\n",
            "|       3|  335990|      Mumbai Indians|Royal Challengers...| 4/20/2008|       2008|    Wankhede Stadium|    Mumbai|       India|      Mumbai Indians|Royal Challengers...|      bat| wickets|      Result|   MV Boucher|         5|         1|\n",
            "|       4|  335991|Kolkata Knight Ri...|     Deccan Chargers| 4/20/2008|       2008|        Eden Gardens|   Kolkata|       India|     Deccan Chargers|Kolkata Knight Ri...|      bat| wickets|      Result|    DJ Hussey|         5|         1|\n",
            "|       5|  335992|    Rajasthan Royals|     Kings XI Punjab| 4/21/2008|       2008|Sawai Mansingh St...|    Jaipur|       India|     Kings XI Punjab|    Rajasthan Royals|      bat| wickets|      Result|    SR Watson|         6|         1|\n",
            "|       6|  335993|     Deccan Chargers|    Delhi Daredevils| 4/22/2008|       2008|Rajiv Gandhi Inte...| Hyderabad|       India|     Deccan Chargers|    Delhi Daredevils|      bat| wickets|      Result|     V Sehwag|         9|         1|\n",
            "|       7|  335994| Chennai Super Kings|      Mumbai Indians| 4/23/2008|       2008|MA Chidambaram St...|   Chennai|       India|      Mumbai Indians| Chennai Super Kings|    field|    runs|      Result|    ML Hayden|         6|         1|\n",
            "|       8|  335995|     Deccan Chargers|    Rajasthan Royals| 4/24/2008|       2008|Rajiv Gandhi Inte...| Hyderabad|       India|    Rajasthan Royals|    Rajasthan Royals|    field| wickets|      Result|    YK Pathan|         3|         1|\n",
            "|       9|  335996|     Kings XI Punjab|      Mumbai Indians| 4/25/2008|       2008|Punjab Cricket As...|Chandigarh|       India|      Mumbai Indians|     Kings XI Punjab|    field|    runs|      Result|KC Sangakkara|        66|         1|\n",
            "|      10|  335997|Royal Challengers...|    Rajasthan Royals| 4/26/2008|       2008|M Chinnaswamy Sta...| Bangalore|       India|    Rajasthan Royals|    Rajasthan Royals|    field| wickets|      Result|    SR Watson|         7|         1|\n",
            "|      11|  335998| Chennai Super Kings|Kolkata Knight Ri...| 4/26/2008|       2008|MA Chidambaram St...|   Chennai|       India|Kolkata Knight Ri...| Chennai Super Kings|      bat| wickets|      Result|     JDP Oram|         9|         1|\n",
            "|      12|  335999|      Mumbai Indians|     Deccan Chargers| 4/27/2008|       2008|Dr DY Patil Sport...|    Mumbai|       India|     Deccan Chargers|     Deccan Chargers|    field| wickets|      Result| AC Gilchrist|        10|         1|\n",
            "|      13|  336000|     Kings XI Punjab|    Delhi Daredevils| 4/27/2008|       2008|Punjab Cricket As...|Chandigarh|       India|    Delhi Daredevils|     Kings XI Punjab|      bat| wickets|      Result|    SM Katich|         4|         1|\n",
            "|      14|  336001|Royal Challengers...| Chennai Super Kings| 4/28/2008|       2008|M Chinnaswamy Sta...| Bangalore|       India| Chennai Super Kings| Chennai Super Kings|      bat|    runs|      Result|     MS Dhoni|        13|         1|\n",
            "|      15|  336002|Kolkata Knight Ri...|      Mumbai Indians| 4/29/2008|       2008|        Eden Gardens|   Kolkata|       India|Kolkata Knight Ri...|      Mumbai Indians|      bat| wickets|      Result|ST Jayasuriya|         7|         1|\n",
            "|      16|  336003|    Delhi Daredevils|Royal Challengers...| 4/30/2008|       2008|    Feroz Shah Kotla|     Delhi|       India|Royal Challengers...|    Delhi Daredevils|    field|    runs|      Result|   GD McGrath|        10|         1|\n",
            "|      17|  336004|     Deccan Chargers|     Kings XI Punjab|  5/1/2008|       2008|Rajiv Gandhi Inte...| Hyderabad|       India|     Kings XI Punjab|     Kings XI Punjab|    field| wickets|      Result|     SE Marsh|         7|         1|\n",
            "|      18|  336005|    Rajasthan Royals|Kolkata Knight Ri...|  5/1/2008|       2008|Sawai Mansingh St...|    Jaipur|       India|    Rajasthan Royals|    Rajasthan Royals|      bat|    runs|      Result|  SA Asnodkar|        45|         1|\n",
            "|      19|  336006| Chennai Super Kings|    Delhi Daredevils|  5/2/2008|       2008|MA Chidambaram St...|   Chennai|       India| Chennai Super Kings|    Delhi Daredevils|      bat| wickets|      Result|     V Sehwag|         8|         1|\n",
            "+--------+--------+--------------------+--------------------+----------+-----------+--------------------+----------+------------+--------------------+--------------------+---------+--------+------------+-------------+----------+----------+\n",
            "only showing top 20 rows\n",
            "\n"
          ]
        }
      ]
    },
    {
      "cell_type": "code",
      "source": [
        "match.printSchema()"
      ],
      "metadata": {
        "colab": {
          "base_uri": "https://localhost:8080/"
        },
        "id": "hGIeQhyNTQzt",
        "outputId": "75e68cb9-9e4c-458d-abb1-da855325f17c"
      },
      "execution_count": 63,
      "outputs": [
        {
          "output_type": "stream",
          "name": "stdout",
          "text": [
            "root\n",
            " |-- Match_SK: integer (nullable = true)\n",
            " |-- match_id: integer (nullable = true)\n",
            " |-- Team1: string (nullable = true)\n",
            " |-- Team2: string (nullable = true)\n",
            " |-- match_date: string (nullable = true)\n",
            " |-- Season_Year: integer (nullable = true)\n",
            " |-- Venue_Name: string (nullable = true)\n",
            " |-- City_Name: string (nullable = true)\n",
            " |-- Country_Name: string (nullable = true)\n",
            " |-- Toss_Winner: string (nullable = true)\n",
            " |-- match_winner: string (nullable = true)\n",
            " |-- Toss_Name: string (nullable = true)\n",
            " |-- Win_Type: string (nullable = true)\n",
            " |-- Outcome_Type: string (nullable = true)\n",
            " |-- ManOfMach: string (nullable = true)\n",
            " |-- Win_Margin: string (nullable = true)\n",
            " |-- Country_id: integer (nullable = true)\n",
            "\n"
          ]
        }
      ]
    },
    {
      "cell_type": "code",
      "source": [
        "match_schema = StructType([\n",
        "    StructField(\"PLAYER_SK\", IntegerType(), True),\n",
        "    StructField(\"Player_Id\", IntegerType(), True),\n",
        "    StructField(\"Player_Name\", StringType(), True),\n",
        "    StructField(\"DOB\", StringType(), True),  # Date of Birth as String\n",
        "    StructField(\"Batting_hand\", StringType(), True),\n",
        "    StructField(\"Bowling_skill\", StringType(), True),\n",
        "    StructField(\"Country_Name\", StringType(), True)\n",
        "])"
      ],
      "metadata": {
        "id": "kdhaZJUVVQLc"
      },
      "execution_count": 64,
      "outputs": []
    },
    {
      "cell_type": "code",
      "source": [
        "player = spark.read.csv('/content/Player.csv', header=True, inferSchema=True)"
      ],
      "metadata": {
        "id": "cdbv95EhUcnZ"
      },
      "execution_count": 100,
      "outputs": []
    },
    {
      "cell_type": "code",
      "source": [
        "player.show()"
      ],
      "metadata": {
        "colab": {
          "base_uri": "https://localhost:8080/"
        },
        "id": "lYwI9GhrTDdX",
        "outputId": "86318c4e-7f4d-46df-8fd0-c8754c2f1055"
      },
      "execution_count": 101,
      "outputs": [
        {
          "output_type": "stream",
          "name": "stdout",
          "text": [
            "+---------+---------+---------------+----------+--------------+--------------------+------------+\n",
            "|PLAYER_SK|Player_Id|    Player_Name|       DOB|  Batting_hand|       Bowling_skill|Country_Name|\n",
            "+---------+---------+---------------+----------+--------------+--------------------+------------+\n",
            "|        0|        1|     SC Ganguly|  7/8/1972| Left-hand bat|    Right-arm medium|       India|\n",
            "|        1|        2|    BB McCullum| 9/27/1981|Right-hand bat|    Right-arm medium| New Zealand|\n",
            "|        2|        3|     RT Ponting|12/19/1974|Right-hand bat|    Right-arm medium|   Australia|\n",
            "|        3|        4|      DJ Hussey| 7/15/1977|Right-hand bat|  Right-arm offbreak|   Australia|\n",
            "|        4|        5|Mohammad Hafeez|10/17/1980|Right-hand bat|  Right-arm offbreak|    Pakistan|\n",
            "|        5|        6|       R Dravid| 1/11/1973|Right-hand bat|  Right-arm offbreak|       India|\n",
            "|        6|        7|       W Jaffer| 2/16/1978|Right-hand bat|  Right-arm offbreak|       India|\n",
            "|        7|        8|        V Kohli| 11/5/1988|Right-hand bat|    Right-arm medium|       India|\n",
            "|        8|        9|      JH Kallis|10/16/1975|Right-hand bat|Right-arm fast-me...|South Africa|\n",
            "|        9|       10|       CL White| 8/18/1983|Right-hand bat|     Legbreak googly|   Australia|\n",
            "|       10|       11|     MV Boucher| 12/3/1976|Right-hand bat|    Right-arm medium|South Africa|\n",
            "|       11|       12|        B Akhil| 10/7/1977|Right-hand bat|Right-arm medium-...|       India|\n",
            "|       12|       13|      AA Noffke| 4/30/1977|Right-hand bat|Right-arm fast-me...|   Australia|\n",
            "|       13|       14|        P Kumar| 10/2/1986|Right-hand bat|    Right-arm medium|       India|\n",
            "|       14|       15|         Z Khan| 10/7/1978|Right-hand bat|Left-arm fast-medium|       India|\n",
            "|       15|       16|       SB Joshi|  6/6/1970| Left-hand bat|Slow left-arm ort...|       India|\n",
            "|       16|       17|       PA Patel|  3/9/1985| Left-hand bat|                 N/A|       India|\n",
            "|       17|       18|      ML Hayden|10/29/1971| Left-hand bat|    Right-arm medium|   Australia|\n",
            "|       18|       19|     MEK Hussey| 5/27/1975| Left-hand bat|    Right-arm medium|   Australia|\n",
            "|       19|       20|       MS Dhoni|  7/7/1981|Right-hand bat|    Right-arm medium|       India|\n",
            "+---------+---------+---------------+----------+--------------+--------------------+------------+\n",
            "only showing top 20 rows\n",
            "\n"
          ]
        }
      ]
    },
    {
      "cell_type": "code",
      "source": [
        "player.printSchema()"
      ],
      "metadata": {
        "colab": {
          "base_uri": "https://localhost:8080/"
        },
        "id": "Jlzw0V9zUkLy",
        "outputId": "3bef8536-cae6-4041-ccbd-5db72fb8a183"
      },
      "execution_count": 102,
      "outputs": [
        {
          "output_type": "stream",
          "name": "stdout",
          "text": [
            "root\n",
            " |-- PLAYER_SK: integer (nullable = true)\n",
            " |-- Player_Id: integer (nullable = true)\n",
            " |-- Player_Name: string (nullable = true)\n",
            " |-- DOB: string (nullable = true)\n",
            " |-- Batting_hand: string (nullable = true)\n",
            " |-- Bowling_skill: string (nullable = true)\n",
            " |-- Country_Name: string (nullable = true)\n",
            "\n"
          ]
        }
      ]
    },
    {
      "cell_type": "code",
      "source": [
        "match_schema = StructType([\n",
        "    StructField(\"Match_SK\", IntegerType(), True),\n",
        "    StructField(\"match_id\", IntegerType(), True),\n",
        "    StructField(\"Team1\", StringType(), True),\n",
        "    StructField(\"Team2\", StringType(), True),\n",
        "    StructField(\"match_date\", StringType(), True),\n",
        "    StructField(\"Season_Year\", IntegerType(), True),\n",
        "    StructField(\"Venue_Name\", StringType(), True),\n",
        "    StructField(\"City_Name\", StringType(), True),\n",
        "    StructField(\"Country_Name\", StringType(), True),\n",
        "    StructField(\"Toss_Winner\", StringType(), True),\n",
        "    StructField(\"match_winner\", StringType(), True),\n",
        "    StructField(\"Toss_Name\", StringType(), True),\n",
        "    StructField(\"Win_Type\", StringType(), True),\n",
        "    StructField(\"Outcome_Type\", StringType(), True),\n",
        "    StructField(\"ManOfMach\", StringType(), True),\n",
        "    StructField(\"Win_Margin\", StringType(), True),\n",
        "    StructField(\"Country_id\", IntegerType(), True)\n",
        "])"
      ],
      "metadata": {
        "id": "i2MBbT_wUm38"
      },
      "execution_count": 103,
      "outputs": []
    },
    {
      "cell_type": "code",
      "source": [
        "player_match = spark.read.csv('/content/Player_match.csv', header=True, inferSchema=True)"
      ],
      "metadata": {
        "id": "naAqrdCmUtOW"
      },
      "execution_count": 114,
      "outputs": []
    },
    {
      "cell_type": "code",
      "source": [
        "player_match.show()"
      ],
      "metadata": {
        "colab": {
          "base_uri": "https://localhost:8080/"
        },
        "id": "ZZB7C7NlTK5k",
        "outputId": "5e86de52-ec10-4887-e4aa-1fadd32081ac"
      },
      "execution_count": 115,
      "outputs": [
        {
          "output_type": "stream",
          "name": "stdout",
          "text": [
            "+---------------+---------------+--------+---------+---------------+----------+--------------+--------------------+------------+---------+--------------------+--------------------+-----------+----------------+---------------+------------------+--------------+--------------+--------------+---------------+-------------+--------------+\n",
            "|Player_match_SK|PlayerMatch_key|Match_Id|Player_Id|    Player_Name|       DOB|  Batting_hand|       Bowling_skill|Country_Name|Role_Desc|         Player_team|        Opposit_Team|Season_year|is_manofThematch|Age_As_on_match|IsPlayers_Team_won|Batting_Status|Bowling_Status|Player_Captain|Opposit_captain|Player_keeper|Opposit_keeper|\n",
            "+---------------+---------------+--------+---------+---------------+----------+--------------+--------------------+------------+---------+--------------------+--------------------+-----------+----------------+---------------+------------------+--------------+--------------+--------------+---------------+-------------+--------------+\n",
            "|             -1|           -1.0|      -1|       -1|            N/A|      null|          null|                null|        null|     null|                null|                null|       null|            null|           null|              null|          null|          null|          null|           null|         null|          null|\n",
            "|          12694|3.3598700006E10|  335987|        6|       R Dravid| 1/11/1973|Right-hand bat|  Right-arm offbreak|       India|  Captain|Royal Challengers...|Kolkata Knight Ri...|       2008|               0|             35|                 0|          null|          null|      R Dravid|     SC Ganguly|   MV Boucher|       WP Saha|\n",
            "|          12695|3.3598700007E10|  335987|        7|       W Jaffer| 2/16/1978|Right-hand bat|  Right-arm offbreak|       India|   Player|Royal Challengers...|Kolkata Knight Ri...|       2008|               0|             30|                 0|          null|          null|      R Dravid|     SC Ganguly|   MV Boucher|       WP Saha|\n",
            "|          12696|3.3598700008E10|  335987|        8|        V Kohli| 11/5/1988|Right-hand bat|    Right-arm medium|       India|   Player|Royal Challengers...|Kolkata Knight Ri...|       2008|               0|             20|                 0|          null|          null|      R Dravid|     SC Ganguly|   MV Boucher|       WP Saha|\n",
            "|          12697|3.3598700009E10|  335987|        9|      JH Kallis|10/16/1975|Right-hand bat|Right-arm fast-me...|South Africa|   Player|Royal Challengers...|Kolkata Knight Ri...|       2008|               0|             33|                 0|          null|          null|      R Dravid|     SC Ganguly|   MV Boucher|       WP Saha|\n",
            "|          12698| 3.359870001E10|  335987|       10|       CL White| 8/18/1983|Right-hand bat|     Legbreak googly|   Australia|   Player|Royal Challengers...|Kolkata Knight Ri...|       2008|               0|             25|                 0|          null|          null|      R Dravid|     SC Ganguly|   MV Boucher|       WP Saha|\n",
            "|          12699|3.3598700011E10|  335987|       11|     MV Boucher| 12/3/1976|Right-hand bat|    Right-arm medium|South Africa|   Keeper|Royal Challengers...|Kolkata Knight Ri...|       2008|               0|             32|                 0|          null|          null|      R Dravid|     SC Ganguly|   MV Boucher|       WP Saha|\n",
            "|          12700|3.3598700012E10|  335987|       12|        B Akhil| 10/7/1977|Right-hand bat|Right-arm medium-...|       India|   Player|Royal Challengers...|Kolkata Knight Ri...|       2008|               0|             31|                 0|          null|          null|      R Dravid|     SC Ganguly|   MV Boucher|       WP Saha|\n",
            "|          12701|3.3598700013E10|  335987|       13|      AA Noffke| 4/30/1977|Right-hand bat|Right-arm fast-me...|   Australia|   Player|Royal Challengers...|Kolkata Knight Ri...|       2008|               0|             31|                 0|          null|          null|      R Dravid|     SC Ganguly|   MV Boucher|       WP Saha|\n",
            "|          12702|3.3598700014E10|  335987|       14|        P Kumar| 10/2/1986|Right-hand bat|    Right-arm medium|       India|   Player|Royal Challengers...|Kolkata Knight Ri...|       2008|               0|             22|                 0|          null|          null|      R Dravid|     SC Ganguly|   MV Boucher|       WP Saha|\n",
            "|          12703|3.3598700015E10|  335987|       15|         Z Khan| 10/7/1978|Right-hand bat|Left-arm fast-medium|       India|   Player|Royal Challengers...|Kolkata Knight Ri...|       2008|               0|             30|                 0|          null|          null|      R Dravid|     SC Ganguly|   MV Boucher|       WP Saha|\n",
            "|          12704|3.3598700016E10|  335987|       16|       SB Joshi|  6/6/1970| Left-hand bat|Slow left-arm ort...|       India|   Player|Royal Challengers...|Kolkata Knight Ri...|       2008|               0|             38|                 0|          null|          null|      R Dravid|     SC Ganguly|   MV Boucher|       WP Saha|\n",
            "|          12705|3.3598700001E10|  335987|        1|     SC Ganguly|  7/8/1972| Left-hand bat|    Right-arm medium|       India|  Captain|Kolkata Knight Ri...|Royal Challengers...|       2008|               0|             36|                 1|          null|          null|    SC Ganguly|       R Dravid|      WP Saha|    MV Boucher|\n",
            "|          12706|3.3598700002E10|  335987|        2|    BB McCullum| 9/27/1981|Right-hand bat|    Right-arm medium| New Zealand|   Player|Kolkata Knight Ri...|Royal Challengers...|       2008|               1|             27|                 1|          null|          null|    SC Ganguly|       R Dravid|      WP Saha|    MV Boucher|\n",
            "|          12707|3.3598700003E10|  335987|        3|     RT Ponting|12/19/1974|Right-hand bat|    Right-arm medium|   Australia|   Player|Kolkata Knight Ri...|Royal Challengers...|       2008|               0|             34|                 1|          null|          null|    SC Ganguly|       R Dravid|      WP Saha|    MV Boucher|\n",
            "|          12708|3.3598700004E10|  335987|        4|      DJ Hussey| 7/15/1977|Right-hand bat|  Right-arm offbreak|   Australia|   Player|Kolkata Knight Ri...|Royal Challengers...|       2008|               0|             31|                 1|          null|          null|    SC Ganguly|       R Dravid|      WP Saha|    MV Boucher|\n",
            "|          12709|3.3598700005E10|  335987|        5|Mohammad Hafeez|10/17/1980|Right-hand bat|  Right-arm offbreak|    Pakistan|   Player|Kolkata Knight Ri...|Royal Challengers...|       2008|               0|             28|                 1|          null|          null|    SC Ganguly|       R Dravid|      WP Saha|    MV Boucher|\n",
            "|          12710|3.3598700062E10|  335987|       62|        WP Saha|10/24/1984|Right-hand bat|                 N/A|       India|   Keeper|Kolkata Knight Ri...|Royal Challengers...|       2008|               0|             24|                 1|          null|          null|    SC Ganguly|       R Dravid|      WP Saha|    MV Boucher|\n",
            "|          12711|3.3598700063E10|  335987|       63|      LR Shukla|  5/6/1981|Right-hand bat|    Right-arm medium|       India|   Player|Kolkata Knight Ri...|Royal Challengers...|       2008|               0|             27|                 1|          null|          null|    SC Ganguly|       R Dravid|      WP Saha|    MV Boucher|\n",
            "|          12712|3.3598700082E10|  335987|       82|     AB Agarkar| 12/4/1977|Right-hand bat|      Right-arm fast|       India|   Player|Kolkata Knight Ri...|Royal Challengers...|       2008|               0|             31|                 1|          null|          null|    SC Ganguly|       R Dravid|      WP Saha|    MV Boucher|\n",
            "+---------------+---------------+--------+---------+---------------+----------+--------------+--------------------+------------+---------+--------------------+--------------------+-----------+----------------+---------------+------------------+--------------+--------------+--------------+---------------+-------------+--------------+\n",
            "only showing top 20 rows\n",
            "\n"
          ]
        }
      ]
    },
    {
      "cell_type": "code",
      "source": [
        "player_match.printSchema()"
      ],
      "metadata": {
        "colab": {
          "base_uri": "https://localhost:8080/"
        },
        "id": "Dtf5ILBCU3u4",
        "outputId": "d7bb656b-ce82-4b96-dced-bc35a986044e"
      },
      "execution_count": 116,
      "outputs": [
        {
          "output_type": "stream",
          "name": "stdout",
          "text": [
            "root\n",
            " |-- Player_match_SK: integer (nullable = true)\n",
            " |-- PlayerMatch_key: double (nullable = true)\n",
            " |-- Match_Id: integer (nullable = true)\n",
            " |-- Player_Id: integer (nullable = true)\n",
            " |-- Player_Name: string (nullable = true)\n",
            " |-- DOB: string (nullable = true)\n",
            " |-- Batting_hand: string (nullable = true)\n",
            " |-- Bowling_skill: string (nullable = true)\n",
            " |-- Country_Name: string (nullable = true)\n",
            " |-- Role_Desc: string (nullable = true)\n",
            " |-- Player_team: string (nullable = true)\n",
            " |-- Opposit_Team: string (nullable = true)\n",
            " |-- Season_year: integer (nullable = true)\n",
            " |-- is_manofThematch: integer (nullable = true)\n",
            " |-- Age_As_on_match: integer (nullable = true)\n",
            " |-- IsPlayers_Team_won: integer (nullable = true)\n",
            " |-- Batting_Status: string (nullable = true)\n",
            " |-- Bowling_Status: string (nullable = true)\n",
            " |-- Player_Captain: string (nullable = true)\n",
            " |-- Opposit_captain: string (nullable = true)\n",
            " |-- Player_keeper: string (nullable = true)\n",
            " |-- Opposit_keeper: string (nullable = true)\n",
            "\n"
          ]
        }
      ]
    },
    {
      "cell_type": "code",
      "source": [
        "player_match_schema = StructType([\n",
        "    StructField(\"Player_Id\", IntegerType(), True),\n",
        "    StructField(\"Player_Name\", StringType(), True),\n",
        "    StructField(\"DOB\", StringType(), True),  # Date of Birth as String\n",
        "    StructField(\"Batting_hand\", StringType(), True),\n",
        "    StructField(\"Bowling_skill\", StringType(), True),\n",
        "    StructField(\"Country_Name\", StringType(), True),\n",
        "    StructField(\"Role_Desc\", StringType(), True),\n",
        "    StructField(\"Player_team\", StringType(), True),\n",
        "    StructField(\"Opposit_Team\", StringType(), True),\n",
        "    StructField(\"Season_year\", IntegerType(), True),\n",
        "    StructField(\"is_manofThematch\", IntegerType(), True),\n",
        "    StructField(\"Age_As_on_match\", IntegerType(), True),\n",
        "    StructField(\"IsPlayers_Team_won\", IntegerType(), True),\n",
        "    StructField(\"Batting_Status\", StringType(), True),\n",
        "    StructField(\"Bowling_Status\", StringType(), True),\n",
        "    StructField(\"Player_Captain\", StringType(), True),\n",
        "    StructField(\"Opposit_captain\", StringType(), True),\n",
        "    StructField(\"Player_keeper\", StringType(), True),\n",
        "    StructField(\"Opposit_keeper\", StringType(), True)\n",
        "])"
      ],
      "metadata": {
        "id": "qz1RKyHZVX0i"
      },
      "execution_count": 117,
      "outputs": []
    },
    {
      "cell_type": "code",
      "source": [
        "team = spark.read.csv('/content/Team.csv', header=True, inferSchema=True)"
      ],
      "metadata": {
        "id": "ijT1mMZNVaww"
      },
      "execution_count": 71,
      "outputs": []
    },
    {
      "cell_type": "code",
      "source": [
        "team.printSchema()"
      ],
      "metadata": {
        "colab": {
          "base_uri": "https://localhost:8080/"
        },
        "id": "gmiTs-PIVc5O",
        "outputId": "b2bafda1-653a-49f3-b342-ec376479550a"
      },
      "execution_count": 72,
      "outputs": [
        {
          "output_type": "stream",
          "name": "stdout",
          "text": [
            "root\n",
            " |-- Team_SK: integer (nullable = true)\n",
            " |-- Team_Id: integer (nullable = true)\n",
            " |-- Team_Name: string (nullable = true)\n",
            "\n"
          ]
        }
      ]
    },
    {
      "cell_type": "code",
      "source": [
        "team_schema = StructType([\n",
        "    StructField(\"Team_SK\", IntegerType(), True),\n",
        "    StructField(\"Team_Id\", IntegerType(), True),\n",
        "    StructField(\"Team_Name\", StringType(), True)\n",
        "])"
      ],
      "metadata": {
        "id": "r7ULUWnTVe-i"
      },
      "execution_count": 73,
      "outputs": []
    },
    {
      "cell_type": "markdown",
      "source": [
        "Transformations\n"
      ],
      "metadata": {
        "id": "Oe0z_DK5VszU"
      }
    },
    {
      "cell_type": "markdown",
      "source": [
        "filtering to keep only valid deliveries (Removing wide and no balls)"
      ],
      "metadata": {
        "id": "wpN33V8RV48f"
      }
    },
    {
      "cell_type": "code",
      "source": [
        "from pyspark.sql.functions import col, when, sum, avg, row_number, count\n",
        "ball_by_ball = ball_by_ball.filter((col(\"wides\") == 0) & (col(\"noballs\") == 0))"
      ],
      "metadata": {
        "id": "C75wcN_5VlST"
      },
      "execution_count": 74,
      "outputs": []
    },
    {
      "cell_type": "markdown",
      "source": [
        "calculating the total and avg run score in each match and inning"
      ],
      "metadata": {
        "id": "b_UQMpnqXRpg"
      }
    },
    {
      "cell_type": "code",
      "source": [
        "total_and_avg = ball_by_ball.groupBy(\"MatcH_id\", \"Innings_No\").agg(\n",
        "    sum(\"runs_scored\").alias(\"total_runs\"),\n",
        "    avg(\"runs_scored\").alias(\"avg_runs\")\n",
        ")"
      ],
      "metadata": {
        "id": "qJPt4ao9WSdA"
      },
      "execution_count": 75,
      "outputs": []
    },
    {
      "cell_type": "markdown",
      "source": [
        "calculating running total of runs in each match for each row"
      ],
      "metadata": {
        "id": "7qxzhX_WCOHD"
      }
    },
    {
      "cell_type": "code",
      "source": [
        "from pyspark.sql.window import Window\n",
        "windowSpec = Window.partitionBy(\"MatcH_id\", \"Innings_No\").orderBy(\"Over_id\")\n",
        "ball_by_ball = ball_by_ball.withColumn(\"running_total\", sum(\"runs_scored\").over(windowSpec))\n",
        "ball_by_ball.show()"
      ],
      "metadata": {
        "id": "-Y7rIq7cYWQp",
        "colab": {
          "base_uri": "https://localhost:8080/"
        },
        "outputId": "315de73b-300a-4701-be74-69aae666f0c8"
      },
      "execution_count": 76,
      "outputs": [
        {
          "output_type": "stream",
          "name": "stdout",
          "text": [
            "+--------+-------+-------+----------+------------+------------+------------------------+----------+-----------+----------+-----+-------+----+-------+-------+-------------+--------------+------+------+-------+---+------------+-------+-----------------+----------+----------------+-------------+----------+------+-------+-----------+------+----------+--------+----------------+---------+-------------------+-------------+----------------+----------+---------------+---------+------------------+--------------+--------------+------------+-------------+-----------+-------------+\n",
            "|MatcH_id|Over_id|Ball_id|Innings_No|Team_Batting|Team_Bowling|Striker_Batting_Position|Extra_Type|Runs_Scored|Extra_runs|Wides|Legbyes|Byes|Noballs|Penalty|Bowler_Extras|      Out_type|Caught|Bowled|Run_out|LBW|Retired_hurt|Stumped|caught_and_bowled|hit_wicket|ObstructingFeild|Bowler_Wicket|Match_Date|Season|Striker|Non_Striker|Bowler|Player_Out|Fielders|Striker_match_SK|StrikerSK|NonStriker_match_SK|NONStriker_SK|Fielder_match_SK|Fielder_SK|Bowler_match_SK|BOWLER_SK|PlayerOut_match_SK|BattingTeam_SK|BowlingTeam_SK|Keeper_Catch|Player_out_sk|MatchDateSK|running_total|\n",
            "+--------+-------+-------+----------+------------+------------+------------------------+----------+-----------+----------+-----+-------+----+-------+-------+-------------+--------------+------+------+-------+---+------------+-------+-----------------+----------+----------------+-------------+----------+------+-------+-----------+------+----------+--------+----------------+---------+-------------------+-------------+----------------+----------+---------------+---------+------------------+--------------+--------------+------------+-------------+-----------+-------------+\n",
            "|  335987|      1|      1|         1|           1|           2|                       1|   legbyes|          0|         1|    0|      1|   0|      0|      0|            0|Not Applicable|     0|     0|      0|  0|           0|      0|                0|         0|               0|            0| 4/18/2008|  2008|      1|          2|    14|      null|    null|           12705|        0|              12706|            1|              -1|        -1|          12702|       13|                -1|             0|             1|           0|            0|   20080418|            0|\n",
            "|  335987|      1|      2|         1|           1|           2|                       2| No Extras|          0|         0|    0|      0|   0|      0|      0|            0|Not Applicable|     0|     0|      0|  0|           0|      0|                0|         0|               0|            0| 4/18/2008|  2008|      2|          1|    14|      null|    null|           12706|        1|              12705|            0|              -1|        -1|          12702|       13|                -1|             0|             1|           0|            0|   20080418|            0|\n",
            "|  335987|      1|      4|         1|           1|           2|                       2| No Extras|          0|         0|    0|      0|   0|      0|      0|            0|Not Applicable|     0|     0|      0|  0|           0|      0|                0|         0|               0|            0| 4/18/2008|  2008|      2|          1|    14|      null|    null|           12706|        1|              12705|            0|              -1|        -1|          12702|       13|                -1|             0|             1|           0|            0|   20080418|            0|\n",
            "|  335987|      1|      5|         1|           1|           2|                       2| No Extras|          0|         0|    0|      0|   0|      0|      0|            0|Not Applicable|     0|     0|      0|  0|           0|      0|                0|         0|               0|            0| 4/18/2008|  2008|      2|          1|    14|      null|    null|           12706|        1|              12705|            0|              -1|        -1|          12702|       13|                -1|             0|             1|           0|            0|   20080418|            0|\n",
            "|  335987|      1|      6|         1|           1|           2|                       2| No Extras|          0|         0|    0|      0|   0|      0|      0|            0|Not Applicable|     0|     0|      0|  0|           0|      0|                0|         0|               0|            0| 4/18/2008|  2008|      2|          1|    14|      null|    null|           12706|        1|              12705|            0|              -1|        -1|          12702|       13|                -1|             0|             1|           0|            0|   20080418|            0|\n",
            "|  335987|      1|      7|         1|           1|           2|                       2|   legbyes|          0|         1|    0|      1|   0|      0|      0|            0|Not Applicable|     0|     0|      0|  0|           0|      0|                0|         0|               0|            0| 4/18/2008|  2008|      2|          1|    14|      null|    null|           12706|        1|              12705|            0|              -1|        -1|          12702|       13|                -1|             0|             1|           0|            0|   20080418|            0|\n",
            "|  335987|      2|      1|         1|           1|           2|                       2| No Extras|          0|         0|    0|      0|   0|      0|      0|            0|Not Applicable|     0|     0|      0|  0|           0|      0|                0|         0|               0|            0| 4/18/2008|  2008|      2|          1|    15|      null|    null|           12706|        1|              12705|            0|              -1|        -1|          12703|       14|                -1|             0|             1|           0|            0|   20080418|           18|\n",
            "|  335987|      2|      2|         1|           1|           2|                       2| No Extras|          4|         0|    0|      0|   0|      0|      0|            0|Not Applicable|     0|     0|      0|  0|           0|      0|                0|         0|               0|            0| 4/18/2008|  2008|      2|          1|    15|      null|    null|           12706|        1|              12705|            0|              -1|        -1|          12703|       14|                -1|             0|             1|           0|            0|   20080418|           18|\n",
            "|  335987|      2|      3|         1|           1|           2|                       2| No Extras|          4|         0|    0|      0|   0|      0|      0|            0|Not Applicable|     0|     0|      0|  0|           0|      0|                0|         0|               0|            0| 4/18/2008|  2008|      2|          1|    15|      null|    null|           12706|        1|              12705|            0|              -1|        -1|          12703|       14|                -1|             0|             1|           0|            0|   20080418|           18|\n",
            "|  335987|      2|      4|         1|           1|           2|                       2| No Extras|          6|         0|    0|      0|   0|      0|      0|            0|Not Applicable|     0|     0|      0|  0|           0|      0|                0|         0|               0|            0| 4/18/2008|  2008|      2|          1|    15|      null|    null|           12706|        1|              12705|            0|              -1|        -1|          12703|       14|                -1|             0|             1|           0|            0|   20080418|           18|\n",
            "|  335987|      2|      5|         1|           1|           2|                       2| No Extras|          4|         0|    0|      0|   0|      0|      0|            0|Not Applicable|     0|     0|      0|  0|           0|      0|                0|         0|               0|            0| 4/18/2008|  2008|      2|          1|    15|      null|    null|           12706|        1|              12705|            0|              -1|        -1|          12703|       14|                -1|             0|             1|           0|            0|   20080418|           18|\n",
            "|  335987|      2|      6|         1|           1|           2|                       2| No Extras|          0|         0|    0|      0|   0|      0|      0|            0|Not Applicable|     0|     0|      0|  0|           0|      0|                0|         0|               0|            0| 4/18/2008|  2008|      2|          1|    15|      null|    null|           12706|        1|              12705|            0|              -1|        -1|          12703|       14|                -1|             0|             1|           0|            0|   20080418|           18|\n",
            "|  335987|      3|      1|         1|           1|           2|                       1| No Extras|          0|         0|    0|      0|   0|      0|      0|            0|Not Applicable|     0|     0|      0|  0|           0|      0|                0|         0|               0|            0| 4/18/2008|  2008|      1|          2|    14|      null|    null|           12705|        0|              12706|            1|              -1|        -1|          12702|       13|                -1|             0|             1|           0|            0|   20080418|           23|\n",
            "|  335987|      3|      2|         1|           1|           2|                       1| No Extras|          0|         0|    0|      0|   0|      0|      0|            0|Not Applicable|     0|     0|      0|  0|           0|      0|                0|         0|               0|            0| 4/18/2008|  2008|      1|          2|    14|      null|    null|           12705|        0|              12706|            1|              -1|        -1|          12702|       13|                -1|             0|             1|           0|            0|   20080418|           23|\n",
            "|  335987|      3|      3|         1|           1|           2|                       1|   legbyes|          0|         1|    0|      1|   0|      0|      0|            0|Not Applicable|     0|     0|      0|  0|           0|      0|                0|         0|               0|            0| 4/18/2008|  2008|      1|          2|    14|      null|    null|           12705|        0|              12706|            1|              -1|        -1|          12702|       13|                -1|             0|             1|           0|            0|   20080418|           23|\n",
            "|  335987|      3|      4|         1|           1|           2|                       2| No Extras|          4|         0|    0|      0|   0|      0|      0|            0|Not Applicable|     0|     0|      0|  0|           0|      0|                0|         0|               0|            0| 4/18/2008|  2008|      2|          1|    14|      null|    null|           12706|        1|              12705|            0|              -1|        -1|          12702|       13|                -1|             0|             1|           0|            0|   20080418|           23|\n",
            "|  335987|      3|      5|         1|           1|           2|                       2| No Extras|          1|         0|    0|      0|   0|      0|      0|            0|Not Applicable|     0|     0|      0|  0|           0|      0|                0|         0|               0|            0| 4/18/2008|  2008|      2|          1|    14|      null|    null|           12706|        1|              12705|            0|              -1|        -1|          12702|       13|                -1|             0|             1|           0|            0|   20080418|           23|\n",
            "|  335987|      3|      6|         1|           1|           2|                       1| No Extras|          0|         0|    0|      0|   0|      0|      0|            0|Not Applicable|     0|     0|      0|  0|           0|      0|                0|         0|               0|            0| 4/18/2008|  2008|      1|          2|    14|      null|    null|           12705|        0|              12706|            1|              -1|        -1|          12702|       13|                -1|             0|             1|           0|            0|   20080418|           23|\n",
            "|  335987|      4|      2|         1|           1|           2|                       2| No Extras|          6|         0|    0|      0|   0|      0|      0|            0|Not Applicable|     0|     0|      0|  0|           0|      0|                0|         0|               0|            0| 4/18/2008|  2008|      2|          1|    13|      null|    null|           12706|        1|              12705|            0|              -1|        -1|          12701|       12|                -1|             0|             1|           0|            0|   20080418|           40|\n",
            "|  335987|      4|      3|         1|           1|           2|                       2|   legbyes|          0|         1|    0|      1|   0|      0|      0|            0|Not Applicable|     0|     0|      0|  0|           0|      0|                0|         0|               0|            0| 4/18/2008|  2008|      2|          1|    13|      null|    null|           12706|        1|              12705|            0|              -1|        -1|          12701|       12|                -1|             0|             1|           0|            0|   20080418|           40|\n",
            "+--------+-------+-------+----------+------------+------------+------------------------+----------+-----------+----------+-----+-------+----+-------+-------+-------------+--------------+------+------+-------+---+------------+-------+-----------------+----------+----------------+-------------+----------+------+-------+-----------+------+----------+--------+----------------+---------+-------------------+-------------+----------------+----------+---------------+---------+------------------+--------------+--------------+------------+-------------+-----------+-------------+\n",
            "only showing top 20 rows\n",
            "\n"
          ]
        }
      ]
    },
    {
      "cell_type": "markdown",
      "source": [
        "Conditional Column: flag for high imapact balls (either a wicket or 6 runs including extras)"
      ],
      "metadata": {
        "id": "-GbEgWdKDsvJ"
      }
    },
    {
      "cell_type": "code",
      "source": [
        "ball_by_ball = ball_by_ball.withColumn(\"high_impact\", when((col(\"Bowler_Wicket\")== True) | (col(\"runs_scored\") + col(\"extra_runs\") > 6), True).otherwise(False))"
      ],
      "metadata": {
        "id": "ONiy4kwkC_ti"
      },
      "execution_count": 77,
      "outputs": []
    },
    {
      "cell_type": "code",
      "source": [
        "ball_by_ball.show(5)"
      ],
      "metadata": {
        "colab": {
          "base_uri": "https://localhost:8080/"
        },
        "id": "fZb7GV9GGr_A",
        "outputId": "33b4c93c-91cd-462f-8b69-a77f4338de7d"
      },
      "execution_count": 78,
      "outputs": [
        {
          "output_type": "stream",
          "name": "stdout",
          "text": [
            "+--------+-------+-------+----------+------------+------------+------------------------+----------+-----------+----------+-----+-------+----+-------+-------+-------------+--------------+------+------+-------+---+------------+-------+-----------------+----------+----------------+-------------+----------+------+-------+-----------+------+----------+--------+----------------+---------+-------------------+-------------+----------------+----------+---------------+---------+------------------+--------------+--------------+------------+-------------+-----------+-------------+-----------+\n",
            "|MatcH_id|Over_id|Ball_id|Innings_No|Team_Batting|Team_Bowling|Striker_Batting_Position|Extra_Type|Runs_Scored|Extra_runs|Wides|Legbyes|Byes|Noballs|Penalty|Bowler_Extras|      Out_type|Caught|Bowled|Run_out|LBW|Retired_hurt|Stumped|caught_and_bowled|hit_wicket|ObstructingFeild|Bowler_Wicket|Match_Date|Season|Striker|Non_Striker|Bowler|Player_Out|Fielders|Striker_match_SK|StrikerSK|NonStriker_match_SK|NONStriker_SK|Fielder_match_SK|Fielder_SK|Bowler_match_SK|BOWLER_SK|PlayerOut_match_SK|BattingTeam_SK|BowlingTeam_SK|Keeper_Catch|Player_out_sk|MatchDateSK|running_total|high_impact|\n",
            "+--------+-------+-------+----------+------------+------------+------------------------+----------+-----------+----------+-----+-------+----+-------+-------+-------------+--------------+------+------+-------+---+------------+-------+-----------------+----------+----------------+-------------+----------+------+-------+-----------+------+----------+--------+----------------+---------+-------------------+-------------+----------------+----------+---------------+---------+------------------+--------------+--------------+------------+-------------+-----------+-------------+-----------+\n",
            "|  335987|      1|      1|         1|           1|           2|                       1|   legbyes|          0|         1|    0|      1|   0|      0|      0|            0|Not Applicable|     0|     0|      0|  0|           0|      0|                0|         0|               0|            0| 4/18/2008|  2008|      1|          2|    14|      null|    null|           12705|        0|              12706|            1|              -1|        -1|          12702|       13|                -1|             0|             1|           0|            0|   20080418|            0|      false|\n",
            "|  335987|      1|      2|         1|           1|           2|                       2| No Extras|          0|         0|    0|      0|   0|      0|      0|            0|Not Applicable|     0|     0|      0|  0|           0|      0|                0|         0|               0|            0| 4/18/2008|  2008|      2|          1|    14|      null|    null|           12706|        1|              12705|            0|              -1|        -1|          12702|       13|                -1|             0|             1|           0|            0|   20080418|            0|      false|\n",
            "|  335987|      1|      4|         1|           1|           2|                       2| No Extras|          0|         0|    0|      0|   0|      0|      0|            0|Not Applicable|     0|     0|      0|  0|           0|      0|                0|         0|               0|            0| 4/18/2008|  2008|      2|          1|    14|      null|    null|           12706|        1|              12705|            0|              -1|        -1|          12702|       13|                -1|             0|             1|           0|            0|   20080418|            0|      false|\n",
            "|  335987|      1|      5|         1|           1|           2|                       2| No Extras|          0|         0|    0|      0|   0|      0|      0|            0|Not Applicable|     0|     0|      0|  0|           0|      0|                0|         0|               0|            0| 4/18/2008|  2008|      2|          1|    14|      null|    null|           12706|        1|              12705|            0|              -1|        -1|          12702|       13|                -1|             0|             1|           0|            0|   20080418|            0|      false|\n",
            "|  335987|      1|      6|         1|           1|           2|                       2| No Extras|          0|         0|    0|      0|   0|      0|      0|            0|Not Applicable|     0|     0|      0|  0|           0|      0|                0|         0|               0|            0| 4/18/2008|  2008|      2|          1|    14|      null|    null|           12706|        1|              12705|            0|              -1|        -1|          12702|       13|                -1|             0|             1|           0|            0|   20080418|            0|      false|\n",
            "+--------+-------+-------+----------+------------+------------+------------------------+----------+-----------+----------+-----+-------+----+-------+-------+-------------+--------------+------+------+-------+---+------------+-------+-----------------+----------+----------------+-------------+----------+------+-------+-----------+------+----------+--------+----------------+---------+-------------------+-------------+----------------+----------+---------------+---------+------------------+--------------+--------------+------------+-------------+-----------+-------------+-----------+\n",
            "only showing top 5 rows\n",
            "\n"
          ]
        }
      ]
    },
    {
      "cell_type": "markdown",
      "source": [
        "# for match df"
      ],
      "metadata": {
        "id": "FsNsCOnkJFTr"
      }
    },
    {
      "cell_type": "code",
      "source": [
        "from pyspark.sql.functions import year, month, dayofmonth, when"
      ],
      "metadata": {
        "id": "BL-j2DI0H_m-"
      },
      "execution_count": 79,
      "outputs": []
    },
    {
      "cell_type": "markdown",
      "source": [
        "Extracting year, month, and day from the match date for more detailed time-based analysis"
      ],
      "metadata": {
        "id": "zduPfLVDJOX2"
      }
    },
    {
      "cell_type": "code",
      "source": [
        "match = match.withColumn(\"year\", year(\"match_date\"))\n",
        "match = match.withColumn(\"month\", month(\"match_date\"))\n",
        "match = match.withColumn(\"day\", dayofmonth(\"match_date\"))\n",
        "match.show()"
      ],
      "metadata": {
        "colab": {
          "base_uri": "https://localhost:8080/"
        },
        "id": "azFxYcBNJLLq",
        "outputId": "f4284cf7-fdb5-4ca1-a77f-2c897bdf6d76"
      },
      "execution_count": 80,
      "outputs": [
        {
          "output_type": "stream",
          "name": "stdout",
          "text": [
            "+--------+--------+--------------------+--------------------+----------+-----------+--------------------+----------+------------+--------------------+--------------------+---------+--------+------------+-------------+----------+----------+----+-----+----+\n",
            "|Match_SK|match_id|               Team1|               Team2|match_date|Season_Year|          Venue_Name| City_Name|Country_Name|         Toss_Winner|        match_winner|Toss_Name|Win_Type|Outcome_Type|    ManOfMach|Win_Margin|Country_id|year|month| day|\n",
            "+--------+--------+--------------------+--------------------+----------+-----------+--------------------+----------+------------+--------------------+--------------------+---------+--------+------------+-------------+----------+----------+----+-----+----+\n",
            "|       0|  335987|Royal Challengers...|Kolkata Knight Ri...| 4/18/2008|       2008|M Chinnaswamy Sta...| Bangalore|       India|Royal Challengers...|Kolkata Knight Ri...|    field|    runs|      Result|  BB McCullum|       140|         1|null| null|null|\n",
            "|       1|  335988|     Kings XI Punjab| Chennai Super Kings| 4/19/2008|       2008|Punjab Cricket As...|Chandigarh|       India| Chennai Super Kings| Chennai Super Kings|      bat|    runs|      Result|   MEK Hussey|        33|         1|null| null|null|\n",
            "|       2|  335989|    Delhi Daredevils|    Rajasthan Royals| 4/19/2008|       2008|    Feroz Shah Kotla|     Delhi|       India|    Rajasthan Royals|    Delhi Daredevils|      bat| wickets|      Result|  MF Maharoof|         9|         1|null| null|null|\n",
            "|       3|  335990|      Mumbai Indians|Royal Challengers...| 4/20/2008|       2008|    Wankhede Stadium|    Mumbai|       India|      Mumbai Indians|Royal Challengers...|      bat| wickets|      Result|   MV Boucher|         5|         1|null| null|null|\n",
            "|       4|  335991|Kolkata Knight Ri...|     Deccan Chargers| 4/20/2008|       2008|        Eden Gardens|   Kolkata|       India|     Deccan Chargers|Kolkata Knight Ri...|      bat| wickets|      Result|    DJ Hussey|         5|         1|null| null|null|\n",
            "|       5|  335992|    Rajasthan Royals|     Kings XI Punjab| 4/21/2008|       2008|Sawai Mansingh St...|    Jaipur|       India|     Kings XI Punjab|    Rajasthan Royals|      bat| wickets|      Result|    SR Watson|         6|         1|null| null|null|\n",
            "|       6|  335993|     Deccan Chargers|    Delhi Daredevils| 4/22/2008|       2008|Rajiv Gandhi Inte...| Hyderabad|       India|     Deccan Chargers|    Delhi Daredevils|      bat| wickets|      Result|     V Sehwag|         9|         1|null| null|null|\n",
            "|       7|  335994| Chennai Super Kings|      Mumbai Indians| 4/23/2008|       2008|MA Chidambaram St...|   Chennai|       India|      Mumbai Indians| Chennai Super Kings|    field|    runs|      Result|    ML Hayden|         6|         1|null| null|null|\n",
            "|       8|  335995|     Deccan Chargers|    Rajasthan Royals| 4/24/2008|       2008|Rajiv Gandhi Inte...| Hyderabad|       India|    Rajasthan Royals|    Rajasthan Royals|    field| wickets|      Result|    YK Pathan|         3|         1|null| null|null|\n",
            "|       9|  335996|     Kings XI Punjab|      Mumbai Indians| 4/25/2008|       2008|Punjab Cricket As...|Chandigarh|       India|      Mumbai Indians|     Kings XI Punjab|    field|    runs|      Result|KC Sangakkara|        66|         1|null| null|null|\n",
            "|      10|  335997|Royal Challengers...|    Rajasthan Royals| 4/26/2008|       2008|M Chinnaswamy Sta...| Bangalore|       India|    Rajasthan Royals|    Rajasthan Royals|    field| wickets|      Result|    SR Watson|         7|         1|null| null|null|\n",
            "|      11|  335998| Chennai Super Kings|Kolkata Knight Ri...| 4/26/2008|       2008|MA Chidambaram St...|   Chennai|       India|Kolkata Knight Ri...| Chennai Super Kings|      bat| wickets|      Result|     JDP Oram|         9|         1|null| null|null|\n",
            "|      12|  335999|      Mumbai Indians|     Deccan Chargers| 4/27/2008|       2008|Dr DY Patil Sport...|    Mumbai|       India|     Deccan Chargers|     Deccan Chargers|    field| wickets|      Result| AC Gilchrist|        10|         1|null| null|null|\n",
            "|      13|  336000|     Kings XI Punjab|    Delhi Daredevils| 4/27/2008|       2008|Punjab Cricket As...|Chandigarh|       India|    Delhi Daredevils|     Kings XI Punjab|      bat| wickets|      Result|    SM Katich|         4|         1|null| null|null|\n",
            "|      14|  336001|Royal Challengers...| Chennai Super Kings| 4/28/2008|       2008|M Chinnaswamy Sta...| Bangalore|       India| Chennai Super Kings| Chennai Super Kings|      bat|    runs|      Result|     MS Dhoni|        13|         1|null| null|null|\n",
            "|      15|  336002|Kolkata Knight Ri...|      Mumbai Indians| 4/29/2008|       2008|        Eden Gardens|   Kolkata|       India|Kolkata Knight Ri...|      Mumbai Indians|      bat| wickets|      Result|ST Jayasuriya|         7|         1|null| null|null|\n",
            "|      16|  336003|    Delhi Daredevils|Royal Challengers...| 4/30/2008|       2008|    Feroz Shah Kotla|     Delhi|       India|Royal Challengers...|    Delhi Daredevils|    field|    runs|      Result|   GD McGrath|        10|         1|null| null|null|\n",
            "|      17|  336004|     Deccan Chargers|     Kings XI Punjab|  5/1/2008|       2008|Rajiv Gandhi Inte...| Hyderabad|       India|     Kings XI Punjab|     Kings XI Punjab|    field| wickets|      Result|     SE Marsh|         7|         1|null| null|null|\n",
            "|      18|  336005|    Rajasthan Royals|Kolkata Knight Ri...|  5/1/2008|       2008|Sawai Mansingh St...|    Jaipur|       India|    Rajasthan Royals|    Rajasthan Royals|      bat|    runs|      Result|  SA Asnodkar|        45|         1|null| null|null|\n",
            "|      19|  336006| Chennai Super Kings|    Delhi Daredevils|  5/2/2008|       2008|MA Chidambaram St...|   Chennai|       India| Chennai Super Kings|    Delhi Daredevils|      bat| wickets|      Result|     V Sehwag|         8|         1|null| null|null|\n",
            "+--------+--------+--------------------+--------------------+----------+-----------+--------------------+----------+------------+--------------------+--------------------+---------+--------+------------+-------------+----------+----------+----+-----+----+\n",
            "only showing top 20 rows\n",
            "\n"
          ]
        }
      ]
    },
    {
      "cell_type": "markdown",
      "source": [
        "High margin win: categorizing win margins into 'high', 'medium', and 'low'"
      ],
      "metadata": {
        "id": "SPdbcMgNKMu2"
      }
    },
    {
      "cell_type": "code",
      "source": [
        "match = match.withColumn(\n",
        "    \"win_margin_category\",\n",
        "    when(col(\"win_margin\") >= 100, \"High\")\n",
        "    .when((col(\"win_margin\") >= 50) & (col(\"win_margin\") < 100), \"Medium\")\n",
        "    .otherwise(\"Low\")\n",
        ")"
      ],
      "metadata": {
        "id": "bXZCSW79JW3S"
      },
      "execution_count": 81,
      "outputs": []
    },
    {
      "cell_type": "markdown",
      "source": [
        "Analyze the impact of the toss: who wins the toss and the match"
      ],
      "metadata": {
        "id": "Apq7nfBWKU0J"
      }
    },
    {
      "cell_type": "code",
      "source": [
        "match = match.withColumn(\n",
        "    \"toss_match_winner\",\n",
        "    when(col(\"toss_winner\") == col(\"match_winner\"), \"Yes\").otherwise(\"No\")\n",
        ")"
      ],
      "metadata": {
        "id": "sDwRMqA6KPNQ"
      },
      "execution_count": 82,
      "outputs": []
    },
    {
      "cell_type": "code",
      "source": [
        "match.show()"
      ],
      "metadata": {
        "colab": {
          "base_uri": "https://localhost:8080/"
        },
        "id": "EhbU3h3JKZph",
        "outputId": "d90f1615-f4a8-4063-d6aa-a9c7e7972192"
      },
      "execution_count": 83,
      "outputs": [
        {
          "output_type": "stream",
          "name": "stdout",
          "text": [
            "+--------+--------+--------------------+--------------------+----------+-----------+--------------------+----------+------------+--------------------+--------------------+---------+--------+------------+-------------+----------+----------+----+-----+----+-------------------+-----------------+\n",
            "|Match_SK|match_id|               Team1|               Team2|match_date|Season_Year|          Venue_Name| City_Name|Country_Name|         Toss_Winner|        match_winner|Toss_Name|Win_Type|Outcome_Type|    ManOfMach|Win_Margin|Country_id|year|month| day|win_margin_category|toss_match_winner|\n",
            "+--------+--------+--------------------+--------------------+----------+-----------+--------------------+----------+------------+--------------------+--------------------+---------+--------+------------+-------------+----------+----------+----+-----+----+-------------------+-----------------+\n",
            "|       0|  335987|Royal Challengers...|Kolkata Knight Ri...| 4/18/2008|       2008|M Chinnaswamy Sta...| Bangalore|       India|Royal Challengers...|Kolkata Knight Ri...|    field|    runs|      Result|  BB McCullum|       140|         1|null| null|null|               High|               No|\n",
            "|       1|  335988|     Kings XI Punjab| Chennai Super Kings| 4/19/2008|       2008|Punjab Cricket As...|Chandigarh|       India| Chennai Super Kings| Chennai Super Kings|      bat|    runs|      Result|   MEK Hussey|        33|         1|null| null|null|                Low|              Yes|\n",
            "|       2|  335989|    Delhi Daredevils|    Rajasthan Royals| 4/19/2008|       2008|    Feroz Shah Kotla|     Delhi|       India|    Rajasthan Royals|    Delhi Daredevils|      bat| wickets|      Result|  MF Maharoof|         9|         1|null| null|null|                Low|               No|\n",
            "|       3|  335990|      Mumbai Indians|Royal Challengers...| 4/20/2008|       2008|    Wankhede Stadium|    Mumbai|       India|      Mumbai Indians|Royal Challengers...|      bat| wickets|      Result|   MV Boucher|         5|         1|null| null|null|                Low|               No|\n",
            "|       4|  335991|Kolkata Knight Ri...|     Deccan Chargers| 4/20/2008|       2008|        Eden Gardens|   Kolkata|       India|     Deccan Chargers|Kolkata Knight Ri...|      bat| wickets|      Result|    DJ Hussey|         5|         1|null| null|null|                Low|               No|\n",
            "|       5|  335992|    Rajasthan Royals|     Kings XI Punjab| 4/21/2008|       2008|Sawai Mansingh St...|    Jaipur|       India|     Kings XI Punjab|    Rajasthan Royals|      bat| wickets|      Result|    SR Watson|         6|         1|null| null|null|                Low|               No|\n",
            "|       6|  335993|     Deccan Chargers|    Delhi Daredevils| 4/22/2008|       2008|Rajiv Gandhi Inte...| Hyderabad|       India|     Deccan Chargers|    Delhi Daredevils|      bat| wickets|      Result|     V Sehwag|         9|         1|null| null|null|                Low|               No|\n",
            "|       7|  335994| Chennai Super Kings|      Mumbai Indians| 4/23/2008|       2008|MA Chidambaram St...|   Chennai|       India|      Mumbai Indians| Chennai Super Kings|    field|    runs|      Result|    ML Hayden|         6|         1|null| null|null|                Low|               No|\n",
            "|       8|  335995|     Deccan Chargers|    Rajasthan Royals| 4/24/2008|       2008|Rajiv Gandhi Inte...| Hyderabad|       India|    Rajasthan Royals|    Rajasthan Royals|    field| wickets|      Result|    YK Pathan|         3|         1|null| null|null|                Low|              Yes|\n",
            "|       9|  335996|     Kings XI Punjab|      Mumbai Indians| 4/25/2008|       2008|Punjab Cricket As...|Chandigarh|       India|      Mumbai Indians|     Kings XI Punjab|    field|    runs|      Result|KC Sangakkara|        66|         1|null| null|null|             Medium|               No|\n",
            "|      10|  335997|Royal Challengers...|    Rajasthan Royals| 4/26/2008|       2008|M Chinnaswamy Sta...| Bangalore|       India|    Rajasthan Royals|    Rajasthan Royals|    field| wickets|      Result|    SR Watson|         7|         1|null| null|null|                Low|              Yes|\n",
            "|      11|  335998| Chennai Super Kings|Kolkata Knight Ri...| 4/26/2008|       2008|MA Chidambaram St...|   Chennai|       India|Kolkata Knight Ri...| Chennai Super Kings|      bat| wickets|      Result|     JDP Oram|         9|         1|null| null|null|                Low|               No|\n",
            "|      12|  335999|      Mumbai Indians|     Deccan Chargers| 4/27/2008|       2008|Dr DY Patil Sport...|    Mumbai|       India|     Deccan Chargers|     Deccan Chargers|    field| wickets|      Result| AC Gilchrist|        10|         1|null| null|null|                Low|              Yes|\n",
            "|      13|  336000|     Kings XI Punjab|    Delhi Daredevils| 4/27/2008|       2008|Punjab Cricket As...|Chandigarh|       India|    Delhi Daredevils|     Kings XI Punjab|      bat| wickets|      Result|    SM Katich|         4|         1|null| null|null|                Low|               No|\n",
            "|      14|  336001|Royal Challengers...| Chennai Super Kings| 4/28/2008|       2008|M Chinnaswamy Sta...| Bangalore|       India| Chennai Super Kings| Chennai Super Kings|      bat|    runs|      Result|     MS Dhoni|        13|         1|null| null|null|                Low|              Yes|\n",
            "|      15|  336002|Kolkata Knight Ri...|      Mumbai Indians| 4/29/2008|       2008|        Eden Gardens|   Kolkata|       India|Kolkata Knight Ri...|      Mumbai Indians|      bat| wickets|      Result|ST Jayasuriya|         7|         1|null| null|null|                Low|               No|\n",
            "|      16|  336003|    Delhi Daredevils|Royal Challengers...| 4/30/2008|       2008|    Feroz Shah Kotla|     Delhi|       India|Royal Challengers...|    Delhi Daredevils|    field|    runs|      Result|   GD McGrath|        10|         1|null| null|null|                Low|               No|\n",
            "|      17|  336004|     Deccan Chargers|     Kings XI Punjab|  5/1/2008|       2008|Rajiv Gandhi Inte...| Hyderabad|       India|     Kings XI Punjab|     Kings XI Punjab|    field| wickets|      Result|     SE Marsh|         7|         1|null| null|null|                Low|              Yes|\n",
            "|      18|  336005|    Rajasthan Royals|Kolkata Knight Ri...|  5/1/2008|       2008|Sawai Mansingh St...|    Jaipur|       India|    Rajasthan Royals|    Rajasthan Royals|      bat|    runs|      Result|  SA Asnodkar|        45|         1|null| null|null|                Low|              Yes|\n",
            "|      19|  336006| Chennai Super Kings|    Delhi Daredevils|  5/2/2008|       2008|MA Chidambaram St...|   Chennai|       India| Chennai Super Kings|    Delhi Daredevils|      bat| wickets|      Result|     V Sehwag|         8|         1|null| null|null|                Low|               No|\n",
            "+--------+--------+--------------------+--------------------+----------+-----------+--------------------+----------+------------+--------------------+--------------------+---------+--------+------------+-------------+----------+----------+----+-----+----+-------------------+-----------------+\n",
            "only showing top 20 rows\n",
            "\n"
          ]
        }
      ]
    },
    {
      "cell_type": "markdown",
      "source": [
        "# For Player df"
      ],
      "metadata": {
        "id": "vdnP9DtvLsIZ"
      }
    },
    {
      "cell_type": "code",
      "source": [
        "from pyspark.sql.functions import lower, regexp_replace, col"
      ],
      "metadata": {
        "id": "Q5hovglYKcKI"
      },
      "execution_count": 84,
      "outputs": []
    },
    {
      "cell_type": "markdown",
      "source": [
        "Normalize and clean player names"
      ],
      "metadata": {
        "id": "gjCx-QNpLy7p"
      }
    },
    {
      "cell_type": "code",
      "source": [
        "player = player.withColumn(\"player_name\", lower(regexp_replace(\"player_name\", \"[^a-zA-Z0-9 ]\", \"\")))"
      ],
      "metadata": {
        "id": "ARMplg8YLw0z"
      },
      "execution_count": 85,
      "outputs": []
    },
    {
      "cell_type": "markdown",
      "source": [
        "Handle missing values in 'batting_hand' and 'bowling_skill' with a default 'unknown'"
      ],
      "metadata": {
        "id": "y9GcVbueL_KL"
      }
    },
    {
      "cell_type": "code",
      "source": [
        "player = player.na.fill({\"batting_hand\": \"unknown\", \"bowling_skill\": \"unknown\"})"
      ],
      "metadata": {
        "id": "UcfRJKCSL3OL"
      },
      "execution_count": 86,
      "outputs": []
    },
    {
      "cell_type": "markdown",
      "source": [
        "Categorizing players based on batting hand"
      ],
      "metadata": {
        "id": "2Pcza3VZMHV3"
      }
    },
    {
      "cell_type": "code",
      "source": [
        "player = player.withColumn(\n",
        "    \"batting_style\",\n",
        "    when(col(\"batting_hand\").contains(\"left\"), \"Left-Handed\").otherwise(\"Right-Handed\")\n",
        ")"
      ],
      "metadata": {
        "id": "obgr48cCMB81"
      },
      "execution_count": 87,
      "outputs": []
    },
    {
      "cell_type": "code",
      "source": [
        "player.show()"
      ],
      "metadata": {
        "colab": {
          "base_uri": "https://localhost:8080/"
        },
        "id": "SIVyY687MK1X",
        "outputId": "059f3070-2dc9-4a44-8731-b15761b98f66"
      },
      "execution_count": 88,
      "outputs": [
        {
          "output_type": "stream",
          "name": "stdout",
          "text": [
            "+---------+---------+---------------+----------+--------------+--------------------+------------+-------------+\n",
            "|PLAYER_SK|Player_Id|    player_name|       DOB|  Batting_hand|       Bowling_skill|Country_Name|batting_style|\n",
            "+---------+---------+---------------+----------+--------------+--------------------+------------+-------------+\n",
            "|        0|        1|     sc ganguly|  7/8/1972| Left-hand bat|    Right-arm medium|       India| Right-Handed|\n",
            "|        1|        2|    bb mccullum| 9/27/1981|Right-hand bat|    Right-arm medium| New Zealand| Right-Handed|\n",
            "|        2|        3|     rt ponting|12/19/1974|Right-hand bat|    Right-arm medium|   Australia| Right-Handed|\n",
            "|        3|        4|      dj hussey| 7/15/1977|Right-hand bat|  Right-arm offbreak|   Australia| Right-Handed|\n",
            "|        4|        5|mohammad hafeez|10/17/1980|Right-hand bat|  Right-arm offbreak|    Pakistan| Right-Handed|\n",
            "|        5|        6|       r dravid| 1/11/1973|Right-hand bat|  Right-arm offbreak|       India| Right-Handed|\n",
            "|        6|        7|       w jaffer| 2/16/1978|Right-hand bat|  Right-arm offbreak|       India| Right-Handed|\n",
            "|        7|        8|        v kohli| 11/5/1988|Right-hand bat|    Right-arm medium|       India| Right-Handed|\n",
            "|        8|        9|      jh kallis|10/16/1975|Right-hand bat|Right-arm fast-me...|South Africa| Right-Handed|\n",
            "|        9|       10|       cl white| 8/18/1983|Right-hand bat|     Legbreak googly|   Australia| Right-Handed|\n",
            "|       10|       11|     mv boucher| 12/3/1976|Right-hand bat|    Right-arm medium|South Africa| Right-Handed|\n",
            "|       11|       12|        b akhil| 10/7/1977|Right-hand bat|Right-arm medium-...|       India| Right-Handed|\n",
            "|       12|       13|      aa noffke| 4/30/1977|Right-hand bat|Right-arm fast-me...|   Australia| Right-Handed|\n",
            "|       13|       14|        p kumar| 10/2/1986|Right-hand bat|    Right-arm medium|       India| Right-Handed|\n",
            "|       14|       15|         z khan| 10/7/1978|Right-hand bat|Left-arm fast-medium|       India| Right-Handed|\n",
            "|       15|       16|       sb joshi|  6/6/1970| Left-hand bat|Slow left-arm ort...|       India| Right-Handed|\n",
            "|       16|       17|       pa patel|  3/9/1985| Left-hand bat|                 N/A|       India| Right-Handed|\n",
            "|       17|       18|      ml hayden|10/29/1971| Left-hand bat|    Right-arm medium|   Australia| Right-Handed|\n",
            "|       18|       19|     mek hussey| 5/27/1975| Left-hand bat|    Right-arm medium|   Australia| Right-Handed|\n",
            "|       19|       20|       ms dhoni|  7/7/1981|Right-hand bat|    Right-arm medium|       India| Right-Handed|\n",
            "+---------+---------+---------------+----------+--------------+--------------------+------------+-------------+\n",
            "only showing top 20 rows\n",
            "\n"
          ]
        }
      ]
    },
    {
      "cell_type": "markdown",
      "source": [
        "# For player_match"
      ],
      "metadata": {
        "id": "OKvKBM_IMQIx"
      }
    },
    {
      "cell_type": "markdown",
      "source": [
        "Adding a 'veteran_status' column based on player age\n",
        "\n",
        "Dynamic column to calculate years since debut\n",
        "\n",
        "Show the enriched DataFrame"
      ],
      "metadata": {
        "id": "efkWQHQrWsl7"
      }
    },
    {
      "cell_type": "code",
      "source": [
        "from pyspark.sql.functions import col, when, current_date, expr\n",
        "\n",
        "player_match = player_match.withColumn(\n",
        "    \"veteran_status\",\n",
        "    when(col(\"age_as_on_match\") >= 35, \"Veteran\").otherwise(\"Non-Veteran\")\n",
        ")\n",
        "\n",
        "player_match = player_match.withColumn(\n",
        "    \"years_since_debut\",\n",
        "    (year(current_date()) - col(\"season_year\"))\n",
        ")\n",
        "\n",
        "player_match.show()\n"
      ],
      "metadata": {
        "colab": {
          "base_uri": "https://localhost:8080/"
        },
        "id": "7CusmDUSWgEM",
        "outputId": "f10e2d6c-8a04-424f-fc7f-b977e1c295c0"
      },
      "execution_count": 119,
      "outputs": [
        {
          "output_type": "stream",
          "name": "stdout",
          "text": [
            "+---------------+---------------+--------+---------+---------------+----------+--------------+--------------------+------------+---------+--------------------+--------------------+-----------+----------------+---------------+------------------+--------------+--------------+--------------+---------------+-------------+--------------+--------------+-----------------+\n",
            "|Player_match_SK|PlayerMatch_key|Match_Id|Player_Id|    Player_Name|       DOB|  Batting_hand|       Bowling_skill|Country_Name|Role_Desc|         Player_team|        Opposit_Team|Season_year|is_manofThematch|Age_As_on_match|IsPlayers_Team_won|Batting_Status|Bowling_Status|Player_Captain|Opposit_captain|Player_keeper|Opposit_keeper|veteran_status|years_since_debut|\n",
            "+---------------+---------------+--------+---------+---------------+----------+--------------+--------------------+------------+---------+--------------------+--------------------+-----------+----------------+---------------+------------------+--------------+--------------+--------------+---------------+-------------+--------------+--------------+-----------------+\n",
            "|             -1|           -1.0|      -1|       -1|            N/A|      null|          null|                null|        null|     null|                null|                null|       null|            null|           null|              null|          null|          null|          null|           null|         null|          null|   Non-Veteran|             null|\n",
            "|          12694|3.3598700006E10|  335987|        6|       R Dravid| 1/11/1973|Right-hand bat|  Right-arm offbreak|       India|  Captain|Royal Challengers...|Kolkata Knight Ri...|       2008|               0|             35|                 0|          null|          null|      R Dravid|     SC Ganguly|   MV Boucher|       WP Saha|       Veteran|               16|\n",
            "|          12695|3.3598700007E10|  335987|        7|       W Jaffer| 2/16/1978|Right-hand bat|  Right-arm offbreak|       India|   Player|Royal Challengers...|Kolkata Knight Ri...|       2008|               0|             30|                 0|          null|          null|      R Dravid|     SC Ganguly|   MV Boucher|       WP Saha|   Non-Veteran|               16|\n",
            "|          12696|3.3598700008E10|  335987|        8|        V Kohli| 11/5/1988|Right-hand bat|    Right-arm medium|       India|   Player|Royal Challengers...|Kolkata Knight Ri...|       2008|               0|             20|                 0|          null|          null|      R Dravid|     SC Ganguly|   MV Boucher|       WP Saha|   Non-Veteran|               16|\n",
            "|          12697|3.3598700009E10|  335987|        9|      JH Kallis|10/16/1975|Right-hand bat|Right-arm fast-me...|South Africa|   Player|Royal Challengers...|Kolkata Knight Ri...|       2008|               0|             33|                 0|          null|          null|      R Dravid|     SC Ganguly|   MV Boucher|       WP Saha|   Non-Veteran|               16|\n",
            "|          12698| 3.359870001E10|  335987|       10|       CL White| 8/18/1983|Right-hand bat|     Legbreak googly|   Australia|   Player|Royal Challengers...|Kolkata Knight Ri...|       2008|               0|             25|                 0|          null|          null|      R Dravid|     SC Ganguly|   MV Boucher|       WP Saha|   Non-Veteran|               16|\n",
            "|          12699|3.3598700011E10|  335987|       11|     MV Boucher| 12/3/1976|Right-hand bat|    Right-arm medium|South Africa|   Keeper|Royal Challengers...|Kolkata Knight Ri...|       2008|               0|             32|                 0|          null|          null|      R Dravid|     SC Ganguly|   MV Boucher|       WP Saha|   Non-Veteran|               16|\n",
            "|          12700|3.3598700012E10|  335987|       12|        B Akhil| 10/7/1977|Right-hand bat|Right-arm medium-...|       India|   Player|Royal Challengers...|Kolkata Knight Ri...|       2008|               0|             31|                 0|          null|          null|      R Dravid|     SC Ganguly|   MV Boucher|       WP Saha|   Non-Veteran|               16|\n",
            "|          12701|3.3598700013E10|  335987|       13|      AA Noffke| 4/30/1977|Right-hand bat|Right-arm fast-me...|   Australia|   Player|Royal Challengers...|Kolkata Knight Ri...|       2008|               0|             31|                 0|          null|          null|      R Dravid|     SC Ganguly|   MV Boucher|       WP Saha|   Non-Veteran|               16|\n",
            "|          12702|3.3598700014E10|  335987|       14|        P Kumar| 10/2/1986|Right-hand bat|    Right-arm medium|       India|   Player|Royal Challengers...|Kolkata Knight Ri...|       2008|               0|             22|                 0|          null|          null|      R Dravid|     SC Ganguly|   MV Boucher|       WP Saha|   Non-Veteran|               16|\n",
            "|          12703|3.3598700015E10|  335987|       15|         Z Khan| 10/7/1978|Right-hand bat|Left-arm fast-medium|       India|   Player|Royal Challengers...|Kolkata Knight Ri...|       2008|               0|             30|                 0|          null|          null|      R Dravid|     SC Ganguly|   MV Boucher|       WP Saha|   Non-Veteran|               16|\n",
            "|          12704|3.3598700016E10|  335987|       16|       SB Joshi|  6/6/1970| Left-hand bat|Slow left-arm ort...|       India|   Player|Royal Challengers...|Kolkata Knight Ri...|       2008|               0|             38|                 0|          null|          null|      R Dravid|     SC Ganguly|   MV Boucher|       WP Saha|       Veteran|               16|\n",
            "|          12705|3.3598700001E10|  335987|        1|     SC Ganguly|  7/8/1972| Left-hand bat|    Right-arm medium|       India|  Captain|Kolkata Knight Ri...|Royal Challengers...|       2008|               0|             36|                 1|          null|          null|    SC Ganguly|       R Dravid|      WP Saha|    MV Boucher|       Veteran|               16|\n",
            "|          12706|3.3598700002E10|  335987|        2|    BB McCullum| 9/27/1981|Right-hand bat|    Right-arm medium| New Zealand|   Player|Kolkata Knight Ri...|Royal Challengers...|       2008|               1|             27|                 1|          null|          null|    SC Ganguly|       R Dravid|      WP Saha|    MV Boucher|   Non-Veteran|               16|\n",
            "|          12707|3.3598700003E10|  335987|        3|     RT Ponting|12/19/1974|Right-hand bat|    Right-arm medium|   Australia|   Player|Kolkata Knight Ri...|Royal Challengers...|       2008|               0|             34|                 1|          null|          null|    SC Ganguly|       R Dravid|      WP Saha|    MV Boucher|   Non-Veteran|               16|\n",
            "|          12708|3.3598700004E10|  335987|        4|      DJ Hussey| 7/15/1977|Right-hand bat|  Right-arm offbreak|   Australia|   Player|Kolkata Knight Ri...|Royal Challengers...|       2008|               0|             31|                 1|          null|          null|    SC Ganguly|       R Dravid|      WP Saha|    MV Boucher|   Non-Veteran|               16|\n",
            "|          12709|3.3598700005E10|  335987|        5|Mohammad Hafeez|10/17/1980|Right-hand bat|  Right-arm offbreak|    Pakistan|   Player|Kolkata Knight Ri...|Royal Challengers...|       2008|               0|             28|                 1|          null|          null|    SC Ganguly|       R Dravid|      WP Saha|    MV Boucher|   Non-Veteran|               16|\n",
            "|          12710|3.3598700062E10|  335987|       62|        WP Saha|10/24/1984|Right-hand bat|                 N/A|       India|   Keeper|Kolkata Knight Ri...|Royal Challengers...|       2008|               0|             24|                 1|          null|          null|    SC Ganguly|       R Dravid|      WP Saha|    MV Boucher|   Non-Veteran|               16|\n",
            "|          12711|3.3598700063E10|  335987|       63|      LR Shukla|  5/6/1981|Right-hand bat|    Right-arm medium|       India|   Player|Kolkata Knight Ri...|Royal Challengers...|       2008|               0|             27|                 1|          null|          null|    SC Ganguly|       R Dravid|      WP Saha|    MV Boucher|   Non-Veteran|               16|\n",
            "|          12712|3.3598700082E10|  335987|       82|     AB Agarkar| 12/4/1977|Right-hand bat|      Right-arm fast|       India|   Player|Kolkata Knight Ri...|Royal Challengers...|       2008|               0|             31|                 1|          null|          null|    SC Ganguly|       R Dravid|      WP Saha|    MV Boucher|   Non-Veteran|               16|\n",
            "+---------------+---------------+--------+---------+---------------+----------+--------------+--------------------+------------+---------+--------------------+--------------------+-----------+----------------+---------------+------------------+--------------+--------------+--------------+---------------+-------------+--------------+--------------+-----------------+\n",
            "only showing top 20 rows\n",
            "\n"
          ]
        }
      ]
    },
    {
      "cell_type": "code",
      "source": [
        "ball_by_ball.createOrReplaceTempView(\"ball_by_ball\")\n",
        "match.createOrReplaceTempView(\"match\")\n",
        "player.createOrReplaceTempView(\"player\")\n",
        "player_match.createOrReplaceTempView(\"player_match\")\n",
        "team.createOrReplaceTempView(\"team\")"
      ],
      "metadata": {
        "id": "3QBZR3wyVV4x"
      },
      "execution_count": 120,
      "outputs": []
    },
    {
      "cell_type": "code",
      "source": [
        "print(type(spark))\n",
        "\n",
        "# If it's not, recreate the SparkSession\n",
        "from pyspark.sql import SparkSession\n",
        "spark = SparkSession.builder.getOrCreate()\n"
      ],
      "metadata": {
        "colab": {
          "base_uri": "https://localhost:8080/"
        },
        "id": "TLAHbndaddAq",
        "outputId": "d4407219-c297-444e-9c8b-f9d7e859e78a"
      },
      "execution_count": 123,
      "outputs": [
        {
          "output_type": "stream",
          "name": "stdout",
          "text": [
            "<class 'pyspark.sql.session.SparkSession'>\n"
          ]
        }
      ]
    },
    {
      "cell_type": "code",
      "source": [
        "from pyspark.sql import SparkSession\n",
        "\n",
        "spark = SparkSession.builder \\\n",
        "    .appName(\"CricketAnalysis\") \\\n",
        "    .getOrCreate()\n"
      ],
      "metadata": {
        "id": "mbrE0i6Oe2Jl"
      },
      "execution_count": 127,
      "outputs": []
    },
    {
      "cell_type": "code",
      "source": [
        "\n",
        "player_match.createOrReplaceTempView(\"player_match\")\n",
        "ball_by_ball.createOrReplaceTempView(\"ball_by_ball\")\n"
      ],
      "metadata": {
        "id": "qR0MXqWGe3tc"
      },
      "execution_count": 134,
      "outputs": []
    },
    {
      "cell_type": "code",
      "source": [
        "from py4j.protocol import Py4JError\n"
      ],
      "metadata": {
        "id": "DOW-gxOAe59o"
      },
      "execution_count": 131,
      "outputs": []
    },
    {
      "cell_type": "code",
      "source": [
        "ball_by_ball.columns"
      ],
      "metadata": {
        "colab": {
          "base_uri": "https://localhost:8080/"
        },
        "id": "iScwni9c7O_Q",
        "outputId": "88b5af28-ac41-4141-81aa-28788efc1f91"
      },
      "execution_count": 135,
      "outputs": [
        {
          "output_type": "execute_result",
          "data": {
            "text/plain": [
              "['MatcH_id',\n",
              " 'Over_id',\n",
              " 'Ball_id',\n",
              " 'Innings_No',\n",
              " 'Team_Batting',\n",
              " 'Team_Bowling',\n",
              " 'Striker_Batting_Position',\n",
              " 'Extra_Type',\n",
              " 'Runs_Scored',\n",
              " 'Extra_runs',\n",
              " 'Wides',\n",
              " 'Legbyes',\n",
              " 'Byes',\n",
              " 'Noballs',\n",
              " 'Penalty',\n",
              " 'Bowler_Extras',\n",
              " 'Out_type',\n",
              " 'Caught',\n",
              " 'Bowled',\n",
              " 'Run_out',\n",
              " 'LBW',\n",
              " 'Retired_hurt',\n",
              " 'Stumped',\n",
              " 'caught_and_bowled',\n",
              " 'hit_wicket',\n",
              " 'ObstructingFeild',\n",
              " 'Bowler_Wicket',\n",
              " 'Match_Date',\n",
              " 'Season',\n",
              " 'Striker',\n",
              " 'Non_Striker',\n",
              " 'Bowler',\n",
              " 'Player_Out',\n",
              " 'Fielders',\n",
              " 'Striker_match_SK',\n",
              " 'StrikerSK',\n",
              " 'NonStriker_match_SK',\n",
              " 'NONStriker_SK',\n",
              " 'Fielder_match_SK',\n",
              " 'Fielder_SK',\n",
              " 'Bowler_match_SK',\n",
              " 'BOWLER_SK',\n",
              " 'PlayerOut_match_SK',\n",
              " 'BattingTeam_SK',\n",
              " 'BowlingTeam_SK',\n",
              " 'Keeper_Catch',\n",
              " 'Player_out_sk',\n",
              " 'MatchDateSK',\n",
              " 'running_total',\n",
              " 'high_impact']"
            ]
          },
          "metadata": {},
          "execution_count": 135
        }
      ]
    },
    {
      "cell_type": "code",
      "source": [
        "match.columns"
      ],
      "metadata": {
        "colab": {
          "base_uri": "https://localhost:8080/"
        },
        "id": "0dmTJQOy7TyP",
        "outputId": "f472b154-1641-4d7a-e8ee-b11e9183f67f"
      },
      "execution_count": 136,
      "outputs": [
        {
          "output_type": "execute_result",
          "data": {
            "text/plain": [
              "['Match_SK',\n",
              " 'match_id',\n",
              " 'Team1',\n",
              " 'Team2',\n",
              " 'match_date',\n",
              " 'Season_Year',\n",
              " 'Venue_Name',\n",
              " 'City_Name',\n",
              " 'Country_Name',\n",
              " 'Toss_Winner',\n",
              " 'match_winner',\n",
              " 'Toss_Name',\n",
              " 'Win_Type',\n",
              " 'Outcome_Type',\n",
              " 'ManOfMach',\n",
              " 'Win_Margin',\n",
              " 'Country_id',\n",
              " 'year',\n",
              " 'month',\n",
              " 'day',\n",
              " 'win_margin_category',\n",
              " 'toss_match_winner']"
            ]
          },
          "metadata": {},
          "execution_count": 136
        }
      ]
    },
    {
      "cell_type": "code",
      "source": [
        "player.columns"
      ],
      "metadata": {
        "colab": {
          "base_uri": "https://localhost:8080/"
        },
        "id": "iodQ4WvC7Wv4",
        "outputId": "f70ac90c-f621-48c9-cfd0-9cd3ff2f3830"
      },
      "execution_count": 137,
      "outputs": [
        {
          "output_type": "execute_result",
          "data": {
            "text/plain": [
              "['PLAYER_SK',\n",
              " 'Player_Id',\n",
              " 'Player_Name',\n",
              " 'DOB',\n",
              " 'Batting_hand',\n",
              " 'Bowling_skill',\n",
              " 'Country_Name']"
            ]
          },
          "metadata": {},
          "execution_count": 137
        }
      ]
    },
    {
      "cell_type": "code",
      "source": [
        "player_match.columns"
      ],
      "metadata": {
        "colab": {
          "base_uri": "https://localhost:8080/"
        },
        "id": "KiXZwVkL7Wnk",
        "outputId": "b38fceb7-8121-45da-835a-c98fecedbd31"
      },
      "execution_count": 138,
      "outputs": [
        {
          "output_type": "execute_result",
          "data": {
            "text/plain": [
              "['Player_match_SK',\n",
              " 'PlayerMatch_key',\n",
              " 'Match_Id',\n",
              " 'Player_Id',\n",
              " 'Player_Name',\n",
              " 'DOB',\n",
              " 'Batting_hand',\n",
              " 'Bowling_skill',\n",
              " 'Country_Name',\n",
              " 'Role_Desc',\n",
              " 'Player_team',\n",
              " 'Opposit_Team',\n",
              " 'Season_year',\n",
              " 'is_manofThematch',\n",
              " 'Age_As_on_match',\n",
              " 'IsPlayers_Team_won',\n",
              " 'Batting_Status',\n",
              " 'Bowling_Status',\n",
              " 'Player_Captain',\n",
              " 'Opposit_captain',\n",
              " 'Player_keeper',\n",
              " 'Opposit_keeper',\n",
              " 'veteran_status',\n",
              " 'years_since_debut']"
            ]
          },
          "metadata": {},
          "execution_count": 138
        }
      ]
    },
    {
      "cell_type": "code",
      "source": [
        "team.columns"
      ],
      "metadata": {
        "colab": {
          "base_uri": "https://localhost:8080/"
        },
        "id": "iKjLuQeS7Wf2",
        "outputId": "64f4d39b-78e7-4f45-d09f-da668597298d"
      },
      "execution_count": 139,
      "outputs": [
        {
          "output_type": "execute_result",
          "data": {
            "text/plain": [
              "['Team_SK', 'Team_Id', 'Team_Name']"
            ]
          },
          "metadata": {},
          "execution_count": 139
        }
      ]
    },
    {
      "cell_type": "markdown",
      "source": [
        "# Finding the top-scoring batsman per season for each over"
      ],
      "metadata": {
        "id": "isdoEyBC9q3p"
      }
    },
    {
      "cell_type": "code",
      "source": [
        "from pyspark.sql import SparkSession\n",
        "from pyspark.sql.functions import col, sum as _sum, max as _max, row_number\n",
        "from pyspark.sql.window import Window"
      ],
      "metadata": {
        "id": "epH_xEcxd7L1"
      },
      "execution_count": 140,
      "outputs": []
    },
    {
      "cell_type": "code",
      "source": [
        "spark = SparkSession.builder \\\n",
        "    .appName(\"Top Scoring Batsman Per Season Per Over\") \\\n",
        "    .getOrCreate()\n"
      ],
      "metadata": {
        "id": "FL_zmsmh-yk2"
      },
      "execution_count": 141,
      "outputs": []
    },
    {
      "cell_type": "markdown",
      "source": [
        "Aggregate runs scored by each batsman per season and per over"
      ],
      "metadata": {
        "id": "9hKJoV39-8_b"
      }
    },
    {
      "cell_type": "code",
      "source": [
        "runs_per_season_over = ball_by_ball.groupBy('Season', 'Over_id', 'Striker') \\\n",
        "    .agg(_sum('Runs_Scored').alias('Total_Runs'))"
      ],
      "metadata": {
        "id": "cMRwqcNY-6gj"
      },
      "execution_count": 142,
      "outputs": []
    },
    {
      "cell_type": "markdown",
      "source": [
        "Add player names for better readability (join with player DataFrame)"
      ],
      "metadata": {
        "id": "_mQi1PBW_EnF"
      }
    },
    {
      "cell_type": "code",
      "source": [
        "runs_with_names = runs_per_season_over.join(player, runs_per_season_over.Striker == player.Player_Id, 'left') \\\n",
        "    .select('Season', 'Over_id', 'Striker', 'Player_Name', 'Total_Runs')"
      ],
      "metadata": {
        "id": "7HEMTKiE_B0g"
      },
      "execution_count": 143,
      "outputs": []
    },
    {
      "cell_type": "markdown",
      "source": [
        "Use window function to rank players by their total runs within each season and over"
      ],
      "metadata": {
        "id": "74rSrNTg_J9m"
      }
    },
    {
      "cell_type": "code",
      "source": [
        "window_spec = Window.partitionBy('Season', 'Over_id').orderBy(col('Total_Runs').desc())\n"
      ],
      "metadata": {
        "id": "KqfxBYvr_HZs"
      },
      "execution_count": 144,
      "outputs": []
    },
    {
      "cell_type": "markdown",
      "source": [
        "Identify the top scorer for each season and each over"
      ],
      "metadata": {
        "id": "11_Wo4rr_Pnr"
      }
    },
    {
      "cell_type": "code",
      "source": [
        "top_scorers = runs_with_names.withColumn('rank', row_number().over(window_spec)) \\\n",
        "    .filter(col('rank') == 1) \\\n",
        "    .select('Season', 'Over_id', 'Player_Name', 'Total_Runs')"
      ],
      "metadata": {
        "id": "7g9CDNj1_MoH"
      },
      "execution_count": 145,
      "outputs": []
    },
    {
      "cell_type": "code",
      "source": [
        "top_scorers.show()"
      ],
      "metadata": {
        "colab": {
          "base_uri": "https://localhost:8080/"
        },
        "id": "ZhgVdk58_SCW",
        "outputId": "f2e2c25c-44dc-4f61-b953-3c1bea837f5a"
      },
      "execution_count": 151,
      "outputs": [
        {
          "output_type": "stream",
          "name": "stdout",
          "text": [
            "+------+-------+-------------+----------+\n",
            "|Season|Over_id|  Player_Name|Total_Runs|\n",
            "+------+-------+-------------+----------+\n",
            "|  2008|      1| AC Gilchrist|        57|\n",
            "|  2008|      2|ST Jayasuriya|        87|\n",
            "|  2008|      3|ST Jayasuriya|        61|\n",
            "|  2008|      4|    G Gambhir|        54|\n",
            "|  2008|      5|    G Gambhir|        71|\n",
            "|  2008|      6|ST Jayasuriya|        65|\n",
            "|  2008|      7|     SE Marsh|        45|\n",
            "|  2008|      8|     SE Marsh|        44|\n",
            "|  2008|      9|     SE Marsh|        56|\n",
            "|  2008|     10|    SR Watson|        46|\n",
            "|  2008|     11|     SE Marsh|        53|\n",
            "|  2008|     12|    YK Pathan|        42|\n",
            "|  2008|     13|    SR Watson|        44|\n",
            "|  2008|     14|    G Gambhir|        42|\n",
            "|  2008|     15|       M Kaif|        48|\n",
            "|  2008|     16|   MV Boucher|        41|\n",
            "|  2008|     17|    RG Sharma|        57|\n",
            "|  2008|     18|    DJ Hussey|        46|\n",
            "|  2008|     19|     MS Dhoni|        52|\n",
            "|  2008|     20|    PP Chawla|        40|\n",
            "+------+-------+-------------+----------+\n",
            "only showing top 20 rows\n",
            "\n"
          ]
        }
      ]
    },
    {
      "cell_type": "markdown",
      "source": [
        "# Most Economical Player in Power Play\n",
        "Step 1: Filter for power play overs (typically the first 6 overs)\n",
        "\n",
        "Step 2: Calculate total runs conceded by each bowler during power play\n",
        "\n",
        "Step 3: Calculate the number of balls bowled by each bowler during power play\n",
        "\n",
        " Step 4: Join the two DataFrames to get both runs conceded and balls bowled for each bowler\n",
        "\n",
        "\n",
        "Step 5: Calculate the economy rate for each bowler (runs conceded per over).\n",
        " An over consists of 6 balls\n",
        "\n",
        "\n",
        "Step 6: Add player names for better readability (join with player DataFrame)\n",
        "\n",
        "Step 7: Identify the most economical bowler (lowest economy rate)"
      ],
      "metadata": {
        "id": "wCCoOw-wAhKc"
      }
    },
    {
      "cell_type": "code",
      "source": [
        "from pyspark.sql import SparkSession\n",
        "from pyspark.sql.functions import col, sum as _sum, count, lit\n",
        "\n",
        "spark = SparkSession.builder \\\n",
        "    .appName(\"Most Economical Player in Power Play\") \\\n",
        "    .getOrCreate()\n",
        "\n",
        "\n",
        "power_play = ball_by_ball.filter(col('Over_id') <= 6)\n",
        "\n",
        "\n",
        "runs_conceded = power_play.groupBy('Bowler').agg(_sum('Runs_Scored').alias('Total_Runs_Conceded'))\n",
        "\n",
        "balls_bowled = power_play.filter(col('Extra_Type').isNull() | ~col('Extra_Type').isin('Wides', 'Noballs')) \\\n",
        "    .groupBy('Bowler').agg(count(lit(1)).alias('Balls_Bowled'))\n",
        "bowler_stats = runs_conceded.join(balls_bowled, 'Bowler')\n",
        "\n",
        "bowler_stats = bowler_stats.withColumn('Economy_Rate', col('Total_Runs_Conceded') / (col('Balls_Bowled') / 6))\n",
        "\n",
        "bowler_stats = bowler_stats.join(player, bowler_stats.Bowler == player.Player_Id, 'left') \\\n",
        "    .select('Bowler', 'Player_Name', 'Total_Runs_Conceded', 'Balls_Bowled', 'Economy_Rate')\n",
        "\n",
        "\n",
        "most_economical_bowler = bowler_stats.orderBy('Economy_Rate').first()\n",
        "\n",
        "print(\"Most Economical Bowler in Power Play:\")\n",
        "print(f\"Bowler ID: {most_economical_bowler['Bowler']}\")\n",
        "print(f\"Player Name: {most_economical_bowler['Player_Name']}\")\n",
        "print(f\"Total Runs Conceded: {most_economical_bowler['Total_Runs_Conceded']}\")\n",
        "print(f\"Balls Bowled: {most_economical_bowler['Balls_Bowled']}\")\n",
        "print(f\"Economy Rate: {most_economical_bowler['Economy_Rate']}\")\n"
      ],
      "metadata": {
        "colab": {
          "base_uri": "https://localhost:8080/"
        },
        "id": "OJxc_uLU_q7r",
        "outputId": "cd864ff9-a0a9-4484-82cc-19a554da9033"
      },
      "execution_count": 152,
      "outputs": [
        {
          "output_type": "stream",
          "name": "stdout",
          "text": [
            "Most Economical Bowler in Power Play:\n",
            "Bowler ID: 184\n",
            "Player Name: SM Harwood\n",
            "Total Runs Conceded: 6\n",
            "Balls Bowled: 18\n",
            "Economy Rate: 2.0\n"
          ]
        }
      ]
    },
    {
      "cell_type": "code",
      "source": [
        "from pyspark.sql import SparkSession\n",
        "from pyspark.sql.functions import col, sum as _sum, count, lit, desc\n",
        "import pandas as pd\n",
        "\n",
        "spark = SparkSession.builder \\\n",
        "    .appName(\"Most Economical Player in Power Play\") \\\n",
        "    .getOrCreate()\n",
        "\n",
        "power_play = ball_by_ball.filter(col('Over_id') <= 6)\n",
        "\n",
        "runs_conceded = power_play.groupBy('Bowler').agg(_sum('Runs_Scored').alias('Total_Runs_Conceded'))\n",
        "\n",
        "balls_bowled = power_play.filter(col('Extra_Type').isNull() | ~col('Extra_Type').isin('Wides', 'Noballs')) \\\n",
        "    .groupBy('Bowler').agg(count(lit(1)).alias('Balls_Bowled'))\n",
        "\n",
        "bowler_stats = runs_conceded.join(balls_bowled, 'Bowler')\n",
        "\n",
        "bowler_stats = bowler_stats.withColumn('Economy_Rate', col('Total_Runs_Conceded') / (col('Balls_Bowled') / 6))\n",
        "\n",
        "bowler_stats = bowler_stats.join(player, bowler_stats.Bowler == player.Player_Id, 'left') \\\n",
        "    .select('Bowler', 'Player_Name', 'Total_Runs_Conceded', 'Balls_Bowled', 'Economy_Rate')\n",
        "\n",
        "sorted_bowlers = bowler_stats.orderBy(desc('Economy_Rate'))\n",
        "\n",
        "# Collect data and convert to Pandas DataFrame\n",
        "bowlers_list = sorted_bowlers.collect()\n",
        "bowlers_pd = pd.DataFrame([row.asDict() for row in bowlers_list])\n",
        "\n",
        "print(bowlers_pd)\n",
        "\n"
      ],
      "metadata": {
        "colab": {
          "base_uri": "https://localhost:8080/"
        },
        "id": "JC2qod_AFKie",
        "outputId": "77ba8620-1ae9-41f5-fe40-2b1247bf003d"
      },
      "execution_count": 166,
      "outputs": [
        {
          "output_type": "stream",
          "name": "stdout",
          "text": [
            "     Bowler     Player_Name  Total_Runs_Conceded  Balls_Bowled  Economy_Rate\n",
            "0        41        V Sehwag                   41            12          20.5\n",
            "1       317      RR Bhatkal                   20             6          20.0\n",
            "2       325  A Ashish Reddy                   20             6          20.0\n",
            "3       454        MG Neser                   18             6          18.0\n",
            "4        13       AA Noffke                   17             6          17.0\n",
            "..      ...             ...                  ...           ...           ...\n",
            "287     254        AJ Finch                    3             6           3.0\n",
            "288     180       GR Napier                    3             6           3.0\n",
            "289     474      Avesh Khan                    6            12           3.0\n",
            "290     430         A Zampa                    3             6           3.0\n",
            "291     184      SM Harwood                    6            18           2.0\n",
            "\n",
            "[292 rows x 5 columns]\n"
          ]
        }
      ]
    },
    {
      "cell_type": "code",
      "source": [
        "from pyspark.sql import SparkSession\n",
        "from pyspark.sql.functions import when, col\n",
        "\n",
        "spark = SparkSession.builder.appName(\"Toss Impact Analysis\").getOrCreate()\n",
        "\n",
        "toss_impact = match.withColumn(\n",
        "    'Toss_Impact',\n",
        "    when(col('Toss_Winner') == col('match_winner'), 'Win').otherwise('Lose')\n",
        ")\n",
        "\n",
        "toss_impact_result = toss_impact.groupBy('Toss_Impact').count()\n",
        "\n",
        "toss_impact_result.show()\n"
      ],
      "metadata": {
        "colab": {
          "base_uri": "https://localhost:8080/"
        },
        "id": "QZPBLyYHBEYs",
        "outputId": "fda03f2a-a6cd-4bc7-bab5-ea8b3363b8bd"
      },
      "execution_count": 153,
      "outputs": [
        {
          "output_type": "stream",
          "name": "stdout",
          "text": [
            "+-----------+-----+\n",
            "|Toss_Impact|count|\n",
            "+-----------+-----+\n",
            "|        Win|  324|\n",
            "|       Lose|  313|\n",
            "+-----------+-----+\n",
            "\n"
          ]
        }
      ]
    },
    {
      "cell_type": "code",
      "source": [
        "from pyspark.sql import SparkSession\n",
        "from pyspark.sql.functions import col, avg, sum as _sum\n",
        "\n",
        "spark = SparkSession.builder.appName(\"Average Runs in Wins\").getOrCreate()\n",
        "\n",
        "runs_per_match = ball_by_ball.groupBy('MatcH_id', 'Team_Batting').agg(_sum('Runs_Scored').alias('Total_Runs'))\n",
        "\n",
        "winning_matches = match.filter(col('match_winner').isNotNull())\n",
        "\n",
        "winning_runs = runs_per_match.join(winning_matches, runs_per_match.MatcH_id == winning_matches.match_id) \\\n",
        "    .filter(runs_per_match.Team_Batting == winning_matches.match_winner) \\\n",
        "    .select(runs_per_match.MatcH_id, 'Total_Runs')\n",
        "\n",
        "average_runs = winning_runs.agg(avg('Total_Runs').alias('Average_Runs')).first()['Average_Runs']\n",
        "\n",
        "print(f\"Average Runs in Wins: {average_runs}\")\n",
        "\n"
      ],
      "metadata": {
        "colab": {
          "base_uri": "https://localhost:8080/"
        },
        "id": "s17UbO1nBzXQ",
        "outputId": "c6c47974-2a6a-46fb-e420-797f0af18f01"
      },
      "execution_count": 156,
      "outputs": [
        {
          "output_type": "stream",
          "name": "stdout",
          "text": [
            "Average Runs in Wins: 157.6206896551724\n"
          ]
        }
      ]
    },
    {
      "cell_type": "code",
      "source": [
        "from pyspark.sql import SparkSession\n",
        "from pyspark.sql.functions import col, avg, sum as _sum\n",
        "\n",
        "spark = SparkSession.builder.appName(\"Top 10 Players with Average Runs\").getOrCreate()\n",
        "\n",
        "total_runs_per_player = ball_by_ball.groupBy('Striker').agg(_sum('Runs_Scored').alias('Total_Runs'))\n",
        "\n",
        "matches_per_player = ball_by_ball.select('MatcH_id', 'Striker').distinct() \\\n",
        "    .groupBy('Striker').count().alias('Matches_Played')\n",
        "\n",
        "player_stats = total_runs_per_player.join(matches_per_player, 'Striker') \\\n",
        "    .withColumn('Average_Runs', col('Total_Runs') / col('count'))\n",
        "\n",
        "player_with_names = player_stats.join(player, player_stats.Striker == player.Player_Id, 'left') \\\n",
        "    .select('Player_Name', 'Average_Runs')\n",
        "\n",
        "top_10_players = player_with_names.orderBy(col('Average_Runs').desc()).limit(10)\n",
        "\n",
        "top_10_players.show()\n"
      ],
      "metadata": {
        "colab": {
          "base_uri": "https://localhost:8080/"
        },
        "id": "uLCUqZA1CO9l",
        "outputId": "1fa22b49-7bb0-4edb-d097-6fc196b72587"
      },
      "execution_count": 157,
      "outputs": [
        {
          "output_type": "stream",
          "name": "stdout",
          "text": [
            "+-----------+------------------+\n",
            "|Player_Name|      Average_Runs|\n",
            "+-----------+------------------+\n",
            "|LMP Simmons|37.206896551724135|\n",
            "|   CH Gayle|             36.06|\n",
            "|    HM Amla|           35.9375|\n",
            "|   SE Marsh| 35.84057971014493|\n",
            "|  DA Warner| 34.95614035087719|\n",
            "|  ML Hayden|             34.25|\n",
            "| MEK Hussey| 34.06896551724138|\n",
            "| MN van Wyk|              32.6|\n",
            "|    CA Lynn|31.833333333333332|\n",
            "|    V Kohli| 31.21985815602837|\n",
            "+-----------+------------------+\n",
            "\n"
          ]
        }
      ]
    },
    {
      "cell_type": "markdown",
      "source": [
        "# Visualizations"
      ],
      "metadata": {
        "id": "-UDLtAb7C7K_"
      }
    },
    {
      "cell_type": "code",
      "source": [
        "print(type(most_economical_bowler))\n",
        "\n",
        "\n"
      ],
      "metadata": {
        "colab": {
          "base_uri": "https://localhost:8080/"
        },
        "id": "SwdujQnkEDd6",
        "outputId": "b76883d1-0961-4155-b81f-59430100b8d2"
      },
      "execution_count": 163,
      "outputs": [
        {
          "output_type": "stream",
          "name": "stdout",
          "text": [
            "<class 'pyspark.sql.types.Row'>\n"
          ]
        }
      ]
    },
    {
      "cell_type": "code",
      "source": [
        "import matplotlib.pyplot as plt\n",
        "import seaborn as sns\n",
        "import pandas as pd\n",
        "\n",
        "\n",
        "top_10_bowlers = bowlers_pd.nsmallest(10, 'Economy_Rate')\n",
        "\n",
        "plt.figure(figsize=(12, 8))\n",
        "sns.barplot(x='Economy_Rate', y='Player_Name', data=top_10_bowlers, palette='viridis')\n",
        "plt.xlabel('Economy Rate')\n",
        "plt.ylabel('Player Name')\n",
        "plt.title('Top 10 Economical players in Powerplay ')\n",
        "plt.tight_layout()\n",
        "plt.show()\n",
        "\n"
      ],
      "metadata": {
        "colab": {
          "base_uri": "https://localhost:8080/",
          "height": 904
        },
        "id": "sgujIRcuCwfX",
        "outputId": "5861bcff-b7a5-45ad-df13-7f5a64938875"
      },
      "execution_count": 172,
      "outputs": [
        {
          "output_type": "stream",
          "name": "stderr",
          "text": [
            "<ipython-input-172-e8e9ecb56c8c>:9: FutureWarning: \n",
            "\n",
            "Passing `palette` without assigning `hue` is deprecated and will be removed in v0.14.0. Assign the `y` variable to `hue` and set `legend=False` for the same effect.\n",
            "\n",
            "  sns.barplot(x='Economy_Rate', y='Player_Name', data=top_10_bowlers, palette='viridis')\n"
          ]
        },
        {
          "output_type": "display_data",
          "data": {
            "text/plain": [
              "<Figure size 1200x800 with 1 Axes>"
            ],
            "image/png": "[encoded data removed]"
          },
          "metadata": {}
        }
      ]
    },
    {
      "cell_type": "code",
      "source": [
        "from pyspark.sql import SparkSession\n",
        "from pyspark.sql.functions import col, count, when, lit\n",
        "\n",
        "spark = SparkSession.builder \\\n",
        "    .appName(\"Toss Impact Analysis\") \\\n",
        "    .getOrCreate()\n",
        "\n",
        "toss_impact = match.join(player_match, match.match_id == player_match.Match_Id) \\\n",
        "    .select('Team1', 'Team2', 'Toss_Winner', 'match_winner') \\\n",
        "    .withColumn('Won_Match', col('Toss_Winner') == col('match_winner'))\n",
        "\n",
        "toss_impact_summary = toss_impact.groupBy('Toss_Winner').agg(\n",
        "    count(when(col('Won_Match'), 1)).alias('Matches_Won'),\n",
        "    count(lit(1)).alias('Total_Matches')\n",
        ").withColumn('Win_Percentage', (col('Matches_Won') / col('Total_Matches')) * 100)\n",
        "\n",
        "toss_impact_summary = toss_impact_summary.withColumnRenamed('Toss_Winner', 'Team_Name')\n",
        "\n",
        "# Collect data and convert to Pandas DataFrame\n",
        "toss_impact_list = toss_impact_summary.collect()\n",
        "toss_impact_pd = pd.DataFrame([row.asDict() for row in toss_impact_list])\n",
        "\n",
        "import matplotlib.pyplot as plt\n",
        "import seaborn as sns\n",
        "\n",
        "plt.figure(figsize=(14, 8))\n",
        "sns.barplot(x='Team_Name', y='Win_Percentage', data=toss_impact_pd, palette='viridis')\n",
        "plt.xlabel('Team Name')\n",
        "plt.ylabel('Win Percentage')\n",
        "plt.title('Toss Impact on Match Outcome')\n",
        "plt.xticks(rotation=45)\n",
        "plt.tight_layout()\n",
        "plt.show()\n"
      ],
      "metadata": {
        "colab": {
          "base_uri": "https://localhost:8080/",
          "height": 794
        },
        "id": "szqFFkzhDJH4",
        "outputId": "044eee6c-52fe-4c67-84b3-d2ecc68fb227"
      },
      "execution_count": 174,
      "outputs": [
        {
          "output_type": "stream",
          "name": "stderr",
          "text": [
            "<ipython-input-174-2c87fceb5ebd>:27: FutureWarning: \n",
            "\n",
            "Passing `palette` without assigning `hue` is deprecated and will be removed in v0.14.0. Assign the `x` variable to `hue` and set `legend=False` for the same effect.\n",
            "\n",
            "  sns.barplot(x='Team_Name', y='Win_Percentage', data=toss_impact_pd, palette='viridis')\n"
          ]
        },
        {
          "output_type": "display_data",
          "data": {
            "text/plain": [
              "<Figure size 1400x800 with 1 Axes>"
            ],
            "image/png": "[encoded data removed]"
          },
          "metadata": {}
        }
      ]
    },
    {
      "cell_type": "code",
      "source": [],
      "metadata": {
        "id": "sfGdphnbG1fj"
      },
      "execution_count": null,
      "outputs": []
    }
  ]
}